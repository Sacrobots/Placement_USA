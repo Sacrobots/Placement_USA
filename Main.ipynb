{
 "cells": [
  {
   "cell_type": "code",
   "execution_count": 1209,
   "id": "a3441658-6672-4264-a5e6-ce4f9cd047dc",
   "metadata": {},
   "outputs": [],
   "source": [
    "import pandas as pd\n",
    "import numpy as np\n",
    "import matplotlib.pyplot as plt\n",
    "import seaborn as sns\n",
    "import plotly.express as px\n",
    "pd.options.display.max_rows = 200   # show 200 rows\n",
    "import joblib\n"
   ]
  },
  {
   "cell_type": "code",
   "execution_count": 1210,
   "id": "93a05e03",
   "metadata": {},
   "outputs": [],
   "source": [
    "from sklearn.preprocessing import LabelEncoder\n",
    "from sklearn.model_selection import train_test_split\n",
    "from sklearn.ensemble import  RandomForestRegressor\n",
    "from sklearn.ensemble import  GradientBoostingRegressor\n",
    "from sklearn.linear_model import LinearRegression, LogisticRegression\n",
    "from xgboost import XGBClassifier, XGBRegressor\n",
    "\n",
    "from sklearn.metrics import accuracy_score, classification_report, confusion_matrix, mean_squared_error, r2_score"
   ]
  },
  {
   "cell_type": "code",
   "execution_count": 1211,
   "id": "c947e4e6",
   "metadata": {},
   "outputs": [
    {
     "data": {
      "text/html": [
       "<div>\n",
       "<style scoped>\n",
       "    .dataframe tbody tr th:only-of-type {\n",
       "        vertical-align: middle;\n",
       "    }\n",
       "\n",
       "    .dataframe tbody tr th {\n",
       "        vertical-align: top;\n",
       "    }\n",
       "\n",
       "    .dataframe thead th {\n",
       "        text-align: right;\n",
       "    }\n",
       "</style>\n",
       "<table border=\"1\" class=\"dataframe\">\n",
       "  <thead>\n",
       "    <tr style=\"text-align: right;\">\n",
       "      <th></th>\n",
       "      <th>id</th>\n",
       "      <th>name</th>\n",
       "      <th>gender</th>\n",
       "      <th>age</th>\n",
       "      <th>degree</th>\n",
       "      <th>stream</th>\n",
       "      <th>college_name</th>\n",
       "      <th>placement_status</th>\n",
       "      <th>salary</th>\n",
       "      <th>gpa</th>\n",
       "      <th>years_of_experience</th>\n",
       "    </tr>\n",
       "  </thead>\n",
       "  <tbody>\n",
       "    <tr>\n",
       "      <th>0</th>\n",
       "      <td>1</td>\n",
       "      <td>John Doe</td>\n",
       "      <td>Male</td>\n",
       "      <td>25</td>\n",
       "      <td>Bachelor's</td>\n",
       "      <td>Computer Science</td>\n",
       "      <td>Harvard University</td>\n",
       "      <td>Placed</td>\n",
       "      <td>60000</td>\n",
       "      <td>3.7</td>\n",
       "      <td>2.0</td>\n",
       "    </tr>\n",
       "    <tr>\n",
       "      <th>1</th>\n",
       "      <td>2</td>\n",
       "      <td>Jane Smith</td>\n",
       "      <td>Female</td>\n",
       "      <td>24</td>\n",
       "      <td>Bachelor's</td>\n",
       "      <td>Electrical Engineering</td>\n",
       "      <td>Massachusetts Institute of Technology</td>\n",
       "      <td>Placed</td>\n",
       "      <td>65000</td>\n",
       "      <td>3.6</td>\n",
       "      <td>1.0</td>\n",
       "    </tr>\n",
       "    <tr>\n",
       "      <th>2</th>\n",
       "      <td>3</td>\n",
       "      <td>Michael Johnson</td>\n",
       "      <td>Male</td>\n",
       "      <td>26</td>\n",
       "      <td>Bachelor's</td>\n",
       "      <td>Mechanical Engineering</td>\n",
       "      <td>Stanford University</td>\n",
       "      <td>Placed</td>\n",
       "      <td>58000</td>\n",
       "      <td>3.8</td>\n",
       "      <td>3.0</td>\n",
       "    </tr>\n",
       "    <tr>\n",
       "      <th>3</th>\n",
       "      <td>4</td>\n",
       "      <td>Emily Davis</td>\n",
       "      <td>Female</td>\n",
       "      <td>23</td>\n",
       "      <td>Bachelor's</td>\n",
       "      <td>Information Technology</td>\n",
       "      <td>Yale University</td>\n",
       "      <td>Not Placed</td>\n",
       "      <td>0</td>\n",
       "      <td>3.5</td>\n",
       "      <td>2.0</td>\n",
       "    </tr>\n",
       "    <tr>\n",
       "      <th>4</th>\n",
       "      <td>5</td>\n",
       "      <td>David Brown</td>\n",
       "      <td>Male</td>\n",
       "      <td>24</td>\n",
       "      <td>Bachelor's</td>\n",
       "      <td>Computer Science</td>\n",
       "      <td>Princeton University</td>\n",
       "      <td>Placed</td>\n",
       "      <td>62000</td>\n",
       "      <td>3.9</td>\n",
       "      <td>2.0</td>\n",
       "    </tr>\n",
       "  </tbody>\n",
       "</table>\n",
       "</div>"
      ],
      "text/plain": [
       "   id             name  gender  age      degree                  stream  \\\n",
       "0   1         John Doe    Male   25  Bachelor's        Computer Science   \n",
       "1   2       Jane Smith  Female   24  Bachelor's  Electrical Engineering   \n",
       "2   3  Michael Johnson    Male   26  Bachelor's  Mechanical Engineering   \n",
       "3   4      Emily Davis  Female   23  Bachelor's  Information Technology   \n",
       "4   5      David Brown    Male   24  Bachelor's        Computer Science   \n",
       "\n",
       "                            college_name placement_status  salary  gpa  \\\n",
       "0                     Harvard University           Placed   60000  3.7   \n",
       "1  Massachusetts Institute of Technology           Placed   65000  3.6   \n",
       "2                    Stanford University           Placed   58000  3.8   \n",
       "3                        Yale University       Not Placed       0  3.5   \n",
       "4                   Princeton University           Placed   62000  3.9   \n",
       "\n",
       "   years_of_experience  \n",
       "0                  2.0  \n",
       "1                  1.0  \n",
       "2                  3.0  \n",
       "3                  2.0  \n",
       "4                  2.0  "
      ]
     },
     "execution_count": 1211,
     "metadata": {},
     "output_type": "execute_result"
    }
   ],
   "source": [
    "df = pd.read_csv('Dataset\\job_placement.csv')\n",
    "\n",
    "df.head()"
   ]
  },
  {
   "cell_type": "code",
   "execution_count": 1212,
   "id": "74284096",
   "metadata": {},
   "outputs": [
    {
     "name": "stdout",
     "output_type": "stream",
     "text": [
      "Shape of dataset: (700, 11)\n"
     ]
    }
   ],
   "source": [
    "print(f\"Shape of dataset: {df.shape}\")"
   ]
  },
  {
   "cell_type": "code",
   "execution_count": 1213,
   "id": "a5b274ce",
   "metadata": {},
   "outputs": [
    {
     "name": "stdout",
     "output_type": "stream",
     "text": [
      "Null Values\n"
     ]
    },
    {
     "data": {
      "text/plain": [
       "id                     0\n",
       "name                   0\n",
       "gender                 0\n",
       "age                    0\n",
       "degree                 0\n",
       "stream                 0\n",
       "college_name           0\n",
       "placement_status       0\n",
       "salary                 0\n",
       "gpa                    0\n",
       "years_of_experience    1\n",
       "dtype: int64"
      ]
     },
     "execution_count": 1213,
     "metadata": {},
     "output_type": "execute_result"
    }
   ],
   "source": [
    "print(\"Null Values\")\n",
    "df.isnull().sum()"
   ]
  },
  {
   "cell_type": "code",
   "execution_count": 1214,
   "id": "2b5686de",
   "metadata": {},
   "outputs": [
    {
     "name": "stdout",
     "output_type": "stream",
     "text": [
      "Duplicated Values: 0\n"
     ]
    }
   ],
   "source": [
    "print(f\"Duplicated Values: {df.duplicated().sum()}\")"
   ]
  },
  {
   "cell_type": "code",
   "execution_count": 1215,
   "id": "bed41bb3",
   "metadata": {},
   "outputs": [
    {
     "name": "stdout",
     "output_type": "stream",
     "text": [
      "Description Of Dataset\n"
     ]
    },
    {
     "data": {
      "text/html": [
       "<div>\n",
       "<style scoped>\n",
       "    .dataframe tbody tr th:only-of-type {\n",
       "        vertical-align: middle;\n",
       "    }\n",
       "\n",
       "    .dataframe tbody tr th {\n",
       "        vertical-align: top;\n",
       "    }\n",
       "\n",
       "    .dataframe thead th {\n",
       "        text-align: right;\n",
       "    }\n",
       "</style>\n",
       "<table border=\"1\" class=\"dataframe\">\n",
       "  <thead>\n",
       "    <tr style=\"text-align: right;\">\n",
       "      <th></th>\n",
       "      <th>id</th>\n",
       "      <th>age</th>\n",
       "      <th>salary</th>\n",
       "      <th>gpa</th>\n",
       "      <th>years_of_experience</th>\n",
       "    </tr>\n",
       "  </thead>\n",
       "  <tbody>\n",
       "    <tr>\n",
       "      <th>count</th>\n",
       "      <td>700.00000</td>\n",
       "      <td>700.000000</td>\n",
       "      <td>700.000000</td>\n",
       "      <td>700.000000</td>\n",
       "      <td>699.000000</td>\n",
       "    </tr>\n",
       "    <tr>\n",
       "      <th>mean</th>\n",
       "      <td>350.50000</td>\n",
       "      <td>24.411429</td>\n",
       "      <td>52474.285714</td>\n",
       "      <td>3.750429</td>\n",
       "      <td>2.177396</td>\n",
       "    </tr>\n",
       "    <tr>\n",
       "      <th>std</th>\n",
       "      <td>202.21688</td>\n",
       "      <td>1.164268</td>\n",
       "      <td>25160.331005</td>\n",
       "      <td>0.121212</td>\n",
       "      <td>0.779393</td>\n",
       "    </tr>\n",
       "    <tr>\n",
       "      <th>min</th>\n",
       "      <td>1.00000</td>\n",
       "      <td>23.000000</td>\n",
       "      <td>0.000000</td>\n",
       "      <td>3.400000</td>\n",
       "      <td>1.000000</td>\n",
       "    </tr>\n",
       "    <tr>\n",
       "      <th>25%</th>\n",
       "      <td>175.75000</td>\n",
       "      <td>23.000000</td>\n",
       "      <td>61000.000000</td>\n",
       "      <td>3.700000</td>\n",
       "      <td>2.000000</td>\n",
       "    </tr>\n",
       "    <tr>\n",
       "      <th>50%</th>\n",
       "      <td>350.50000</td>\n",
       "      <td>24.000000</td>\n",
       "      <td>64000.000000</td>\n",
       "      <td>3.800000</td>\n",
       "      <td>2.000000</td>\n",
       "    </tr>\n",
       "    <tr>\n",
       "      <th>75%</th>\n",
       "      <td>525.25000</td>\n",
       "      <td>26.000000</td>\n",
       "      <td>66000.000000</td>\n",
       "      <td>3.900000</td>\n",
       "      <td>3.000000</td>\n",
       "    </tr>\n",
       "    <tr>\n",
       "      <th>max</th>\n",
       "      <td>700.00000</td>\n",
       "      <td>26.000000</td>\n",
       "      <td>68000.000000</td>\n",
       "      <td>3.900000</td>\n",
       "      <td>3.000000</td>\n",
       "    </tr>\n",
       "  </tbody>\n",
       "</table>\n",
       "</div>"
      ],
      "text/plain": [
       "              id         age        salary         gpa  years_of_experience\n",
       "count  700.00000  700.000000    700.000000  700.000000           699.000000\n",
       "mean   350.50000   24.411429  52474.285714    3.750429             2.177396\n",
       "std    202.21688    1.164268  25160.331005    0.121212             0.779393\n",
       "min      1.00000   23.000000      0.000000    3.400000             1.000000\n",
       "25%    175.75000   23.000000  61000.000000    3.700000             2.000000\n",
       "50%    350.50000   24.000000  64000.000000    3.800000             2.000000\n",
       "75%    525.25000   26.000000  66000.000000    3.900000             3.000000\n",
       "max    700.00000   26.000000  68000.000000    3.900000             3.000000"
      ]
     },
     "execution_count": 1215,
     "metadata": {},
     "output_type": "execute_result"
    }
   ],
   "source": [
    "print(\"Description Of Dataset\")\n",
    "df.describe()"
   ]
  },
  {
   "cell_type": "code",
   "execution_count": 1216,
   "id": "07fcbb1f",
   "metadata": {},
   "outputs": [
    {
     "name": "stdout",
     "output_type": "stream",
     "text": [
      "Row having column ['years_of_experience'] as a missing value\n"
     ]
    },
    {
     "data": {
      "text/html": [
       "<div>\n",
       "<style scoped>\n",
       "    .dataframe tbody tr th:only-of-type {\n",
       "        vertical-align: middle;\n",
       "    }\n",
       "\n",
       "    .dataframe tbody tr th {\n",
       "        vertical-align: top;\n",
       "    }\n",
       "\n",
       "    .dataframe thead th {\n",
       "        text-align: right;\n",
       "    }\n",
       "</style>\n",
       "<table border=\"1\" class=\"dataframe\">\n",
       "  <thead>\n",
       "    <tr style=\"text-align: right;\">\n",
       "      <th></th>\n",
       "      <th>id</th>\n",
       "      <th>name</th>\n",
       "      <th>gender</th>\n",
       "      <th>age</th>\n",
       "      <th>degree</th>\n",
       "      <th>stream</th>\n",
       "      <th>college_name</th>\n",
       "      <th>placement_status</th>\n",
       "      <th>salary</th>\n",
       "      <th>gpa</th>\n",
       "      <th>years_of_experience</th>\n",
       "    </tr>\n",
       "  </thead>\n",
       "  <tbody>\n",
       "    <tr>\n",
       "      <th>544</th>\n",
       "      <td>545</td>\n",
       "      <td>Sophia Johnson</td>\n",
       "      <td>Female</td>\n",
       "      <td>24</td>\n",
       "      <td>Bachelor's</td>\n",
       "      <td>Mechanical Engineering</td>\n",
       "      <td>University of California--Santa Cruz</td>\n",
       "      <td>Placed</td>\n",
       "      <td>60000</td>\n",
       "      <td>3.7</td>\n",
       "      <td>NaN</td>\n",
       "    </tr>\n",
       "  </tbody>\n",
       "</table>\n",
       "</div>"
      ],
      "text/plain": [
       "      id            name  gender  age      degree                  stream  \\\n",
       "544  545  Sophia Johnson  Female   24  Bachelor's  Mechanical Engineering   \n",
       "\n",
       "                             college_name placement_status  salary  gpa  \\\n",
       "544  University of California--Santa Cruz           Placed   60000  3.7   \n",
       "\n",
       "     years_of_experience  \n",
       "544                  NaN  "
      ]
     },
     "execution_count": 1216,
     "metadata": {},
     "output_type": "execute_result"
    }
   ],
   "source": [
    "print(\"Row having column ['years_of_experience'] as a missing value\")\n",
    "\n",
    "df[df['years_of_experience'].isnull() == True]"
   ]
  },
  {
   "cell_type": "code",
   "execution_count": 1217,
   "id": "e0b95221",
   "metadata": {},
   "outputs": [],
   "source": [
    "df['years_of_experience'] = df['years_of_experience'].fillna(df['years_of_experience'].mean())"
   ]
  },
  {
   "cell_type": "code",
   "execution_count": 1218,
   "id": "fd6ec492",
   "metadata": {},
   "outputs": [
    {
     "name": "stdout",
     "output_type": "stream",
     "text": [
      "Current Number Of Null Values\n"
     ]
    },
    {
     "data": {
      "text/plain": [
       "id                     0\n",
       "name                   0\n",
       "gender                 0\n",
       "age                    0\n",
       "degree                 0\n",
       "stream                 0\n",
       "college_name           0\n",
       "placement_status       0\n",
       "salary                 0\n",
       "gpa                    0\n",
       "years_of_experience    0\n",
       "dtype: int64"
      ]
     },
     "execution_count": 1218,
     "metadata": {},
     "output_type": "execute_result"
    }
   ],
   "source": [
    "print(\"Current Number Of Null Values\")\n",
    "df.isnull().sum()"
   ]
  },
  {
   "cell_type": "code",
   "execution_count": 1219,
   "id": "fe2940b3",
   "metadata": {},
   "outputs": [
    {
     "data": {
      "text/html": [
       "<div>\n",
       "<style scoped>\n",
       "    .dataframe tbody tr th:only-of-type {\n",
       "        vertical-align: middle;\n",
       "    }\n",
       "\n",
       "    .dataframe tbody tr th {\n",
       "        vertical-align: top;\n",
       "    }\n",
       "\n",
       "    .dataframe thead th {\n",
       "        text-align: right;\n",
       "    }\n",
       "</style>\n",
       "<table border=\"1\" class=\"dataframe\">\n",
       "  <thead>\n",
       "    <tr style=\"text-align: right;\">\n",
       "      <th></th>\n",
       "      <th>id</th>\n",
       "      <th>name</th>\n",
       "      <th>gender</th>\n",
       "      <th>age</th>\n",
       "      <th>degree</th>\n",
       "      <th>stream</th>\n",
       "      <th>college_name</th>\n",
       "      <th>placement_status</th>\n",
       "      <th>salary</th>\n",
       "      <th>gpa</th>\n",
       "      <th>years_of_experience</th>\n",
       "    </tr>\n",
       "  </thead>\n",
       "  <tbody>\n",
       "    <tr>\n",
       "      <th>0</th>\n",
       "      <td>1</td>\n",
       "      <td>John Doe</td>\n",
       "      <td>Male</td>\n",
       "      <td>25</td>\n",
       "      <td>Bachelor's</td>\n",
       "      <td>Computer Science</td>\n",
       "      <td>Harvard University</td>\n",
       "      <td>Placed</td>\n",
       "      <td>60000</td>\n",
       "      <td>3.7</td>\n",
       "      <td>2.0</td>\n",
       "    </tr>\n",
       "    <tr>\n",
       "      <th>1</th>\n",
       "      <td>2</td>\n",
       "      <td>Jane Smith</td>\n",
       "      <td>Female</td>\n",
       "      <td>24</td>\n",
       "      <td>Bachelor's</td>\n",
       "      <td>Electrical Engineering</td>\n",
       "      <td>Massachusetts Institute of Technology</td>\n",
       "      <td>Placed</td>\n",
       "      <td>65000</td>\n",
       "      <td>3.6</td>\n",
       "      <td>1.0</td>\n",
       "    </tr>\n",
       "    <tr>\n",
       "      <th>2</th>\n",
       "      <td>3</td>\n",
       "      <td>Michael Johnson</td>\n",
       "      <td>Male</td>\n",
       "      <td>26</td>\n",
       "      <td>Bachelor's</td>\n",
       "      <td>Mechanical Engineering</td>\n",
       "      <td>Stanford University</td>\n",
       "      <td>Placed</td>\n",
       "      <td>58000</td>\n",
       "      <td>3.8</td>\n",
       "      <td>3.0</td>\n",
       "    </tr>\n",
       "    <tr>\n",
       "      <th>3</th>\n",
       "      <td>4</td>\n",
       "      <td>Emily Davis</td>\n",
       "      <td>Female</td>\n",
       "      <td>23</td>\n",
       "      <td>Bachelor's</td>\n",
       "      <td>Information Technology</td>\n",
       "      <td>Yale University</td>\n",
       "      <td>Not Placed</td>\n",
       "      <td>0</td>\n",
       "      <td>3.5</td>\n",
       "      <td>2.0</td>\n",
       "    </tr>\n",
       "    <tr>\n",
       "      <th>4</th>\n",
       "      <td>5</td>\n",
       "      <td>David Brown</td>\n",
       "      <td>Male</td>\n",
       "      <td>24</td>\n",
       "      <td>Bachelor's</td>\n",
       "      <td>Computer Science</td>\n",
       "      <td>Princeton University</td>\n",
       "      <td>Placed</td>\n",
       "      <td>62000</td>\n",
       "      <td>3.9</td>\n",
       "      <td>2.0</td>\n",
       "    </tr>\n",
       "  </tbody>\n",
       "</table>\n",
       "</div>"
      ],
      "text/plain": [
       "   id             name  gender  age      degree                  stream  \\\n",
       "0   1         John Doe    Male   25  Bachelor's        Computer Science   \n",
       "1   2       Jane Smith  Female   24  Bachelor's  Electrical Engineering   \n",
       "2   3  Michael Johnson    Male   26  Bachelor's  Mechanical Engineering   \n",
       "3   4      Emily Davis  Female   23  Bachelor's  Information Technology   \n",
       "4   5      David Brown    Male   24  Bachelor's        Computer Science   \n",
       "\n",
       "                            college_name placement_status  salary  gpa  \\\n",
       "0                     Harvard University           Placed   60000  3.7   \n",
       "1  Massachusetts Institute of Technology           Placed   65000  3.6   \n",
       "2                    Stanford University           Placed   58000  3.8   \n",
       "3                        Yale University       Not Placed       0  3.5   \n",
       "4                   Princeton University           Placed   62000  3.9   \n",
       "\n",
       "   years_of_experience  \n",
       "0                  2.0  \n",
       "1                  1.0  \n",
       "2                  3.0  \n",
       "3                  2.0  \n",
       "4                  2.0  "
      ]
     },
     "execution_count": 1219,
     "metadata": {},
     "output_type": "execute_result"
    }
   ],
   "source": [
    "df.head()"
   ]
  },
  {
   "cell_type": "code",
   "execution_count": 1220,
   "id": "e1fafdc9",
   "metadata": {},
   "outputs": [
    {
     "data": {
      "text/plain": [
       "['Male', 'Female']"
      ]
     },
     "execution_count": 1220,
     "metadata": {},
     "output_type": "execute_result"
    }
   ],
   "source": [
    "list(df['gender'].unique())"
   ]
  },
  {
   "cell_type": "code",
   "execution_count": 1221,
   "id": "507dc58e",
   "metadata": {},
   "outputs": [
    {
     "name": "stdout",
     "output_type": "stream",
     "text": [
      "Unique values for gender: ['Male', 'Female']\n",
      "\n",
      "Unique values for age: [25, 24, 26, 23]\n",
      "\n",
      "Unique values for degree: [\"Bachelor's\"]\n",
      "\n",
      "Unique values for college_name: ['Harvard University', 'Massachusetts Institute of Technology', 'Stanford University', 'Yale University', 'Princeton University', 'Columbia University', 'California Institute of Technology', 'University of Chicago', 'University of Pennsylvania', 'Northwestern University', 'Duke University', 'Johns Hopkins University', 'University of California--Berkeley', 'University of Michigan--Ann Arbor', 'University of California--Los Angeles', 'University of Virginia', 'University of Wisconsin--Madison', 'University of Illinois--Urbana-Champaign', 'University of North Carolina--Chapel Hill', 'University of Washington', 'University of California--San Diego', 'University of Texas--Austin', 'University of California--Santa Barbara', 'University of Southern California', 'University of Florida', 'University of Minnesota--Twin Cities', 'University of Maryland--College Park', 'University of California--Davis', 'University of Pittsburgh', 'University of Colorado--Boulder', 'University of Rochester', 'Boston College', 'Rice University', 'University of California--Irvine', 'Georgetown University', 'University of Georgia', 'University of Notre Dame', 'University of Iowa', 'University of California--Santa Cruz', 'University of Connecticut', 'University of California--Riverside', 'University of Delaware', 'University of California--San Francisco', 'University of Texas--Dallas']\n",
      "\n",
      "Unique values for stream: ['Computer Science', 'Electrical Engineering', 'Mechanical Engineering', 'Information Technology', 'Electronics and Communication']\n",
      "\n",
      "Unique values for salary: [60000, 65000, 58000, 0, 62000, 63000, 59000, 64000, 57000, 61000, 66000, 67000, 68000]\n",
      "\n",
      "Unique values for placement_status: ['Placed', 'Not Placed']\n",
      "\n"
     ]
    }
   ],
   "source": [
    "lst = ['gender', 'age', 'degree', 'college_name', 'stream', 'salary', 'placement_status']\n",
    "\n",
    "for i in lst:\n",
    "    print(f\"Unique values for {i}: {list(df[i].unique())}\\n\")"
   ]
  },
  {
   "cell_type": "code",
   "execution_count": 1222,
   "id": "e47801ee",
   "metadata": {},
   "outputs": [
    {
     "name": "stdout",
     "output_type": "stream",
     "text": [
      "Number of times college names are repeated\n"
     ]
    },
    {
     "data": {
      "text/plain": [
       "college_name\n",
       "University of Michigan--Ann Arbor            43\n",
       "University of California--Berkeley           43\n",
       "University of Colorado--Boulder              43\n",
       "University of Illinois--Urbana-Champaign     43\n",
       "University of Virginia                       43\n",
       "University of North Carolina--Chapel Hill    42\n",
       "University of Maryland--College Park         42\n",
       "University of California--Santa Cruz         42\n",
       "University of Pennsylvania                   40\n",
       "University of Washington                     40\n",
       "University of California--Riverside          34\n",
       "University of California--San Francisco      34\n",
       "University of Rochester                      34\n",
       "University of Delaware                       34\n",
       "University of Texas--Dallas                  34\n",
       "University of Connecticut                    33\n",
       "University of California--Los Angeles        23\n",
       "University of Texas--Austin                  18\n",
       "University of California--San Diego          10\n",
       "University of California--Irvine              1\n",
       "University of Pittsburgh                      1\n",
       "Georgetown University                         1\n",
       "Rice University                               1\n",
       "Boston College                                1\n",
       "University of Georgia                         1\n",
       "University of Notre Dame                      1\n",
       "University of Iowa                            1\n",
       "Harvard University                            1\n",
       "University of California--Davis               1\n",
       "University of Minnesota--Twin Cities          1\n",
       "University of Florida                         1\n",
       "University of Southern California             1\n",
       "Massachusetts Institute of Technology         1\n",
       "University of Wisconsin--Madison              1\n",
       "Johns Hopkins University                      1\n",
       "Duke University                               1\n",
       "Northwestern University                       1\n",
       "University of Chicago                         1\n",
       "California Institute of Technology            1\n",
       "Columbia University                           1\n",
       "Princeton University                          1\n",
       "Yale University                               1\n",
       "Stanford University                           1\n",
       "University of California--Santa Barbara       1\n",
       "Name: count, dtype: int64"
      ]
     },
     "execution_count": 1222,
     "metadata": {},
     "output_type": "execute_result"
    }
   ],
   "source": [
    "print(\"Number of times college names are repeated\")\n",
    "df['college_name'].value_counts()"
   ]
  },
  {
   "cell_type": "code",
   "execution_count": 1223,
   "id": "de2783e7",
   "metadata": {},
   "outputs": [],
   "source": [
    "# Split all people having placed vs not placed\n",
    "\n",
    "placed = df[df['placement_status'] == 'Placed']\n",
    "not_placed = df[df['placement_status'] == 'Not Placed']"
   ]
  },
  {
   "cell_type": "markdown",
   "id": "6ccf3b2b",
   "metadata": {},
   "source": [
    "Placed Dataset Preprocessing"
   ]
  },
  {
   "cell_type": "code",
   "execution_count": 1224,
   "id": "ef19da56",
   "metadata": {},
   "outputs": [
    {
     "data": {
      "text/html": [
       "<div>\n",
       "<style scoped>\n",
       "    .dataframe tbody tr th:only-of-type {\n",
       "        vertical-align: middle;\n",
       "    }\n",
       "\n",
       "    .dataframe tbody tr th {\n",
       "        vertical-align: top;\n",
       "    }\n",
       "\n",
       "    .dataframe thead th {\n",
       "        text-align: right;\n",
       "    }\n",
       "</style>\n",
       "<table border=\"1\" class=\"dataframe\">\n",
       "  <thead>\n",
       "    <tr style=\"text-align: right;\">\n",
       "      <th></th>\n",
       "      <th>id</th>\n",
       "      <th>name</th>\n",
       "      <th>gender</th>\n",
       "      <th>age</th>\n",
       "      <th>degree</th>\n",
       "      <th>stream</th>\n",
       "      <th>college_name</th>\n",
       "      <th>placement_status</th>\n",
       "      <th>salary</th>\n",
       "      <th>gpa</th>\n",
       "      <th>years_of_experience</th>\n",
       "    </tr>\n",
       "  </thead>\n",
       "  <tbody>\n",
       "    <tr>\n",
       "      <th>0</th>\n",
       "      <td>1</td>\n",
       "      <td>John Doe</td>\n",
       "      <td>Male</td>\n",
       "      <td>25</td>\n",
       "      <td>Bachelor's</td>\n",
       "      <td>Computer Science</td>\n",
       "      <td>Harvard University</td>\n",
       "      <td>Placed</td>\n",
       "      <td>60000</td>\n",
       "      <td>3.7</td>\n",
       "      <td>2.0</td>\n",
       "    </tr>\n",
       "    <tr>\n",
       "      <th>1</th>\n",
       "      <td>2</td>\n",
       "      <td>Jane Smith</td>\n",
       "      <td>Female</td>\n",
       "      <td>24</td>\n",
       "      <td>Bachelor's</td>\n",
       "      <td>Electrical Engineering</td>\n",
       "      <td>Massachusetts Institute of Technology</td>\n",
       "      <td>Placed</td>\n",
       "      <td>65000</td>\n",
       "      <td>3.6</td>\n",
       "      <td>1.0</td>\n",
       "    </tr>\n",
       "    <tr>\n",
       "      <th>2</th>\n",
       "      <td>3</td>\n",
       "      <td>Michael Johnson</td>\n",
       "      <td>Male</td>\n",
       "      <td>26</td>\n",
       "      <td>Bachelor's</td>\n",
       "      <td>Mechanical Engineering</td>\n",
       "      <td>Stanford University</td>\n",
       "      <td>Placed</td>\n",
       "      <td>58000</td>\n",
       "      <td>3.8</td>\n",
       "      <td>3.0</td>\n",
       "    </tr>\n",
       "    <tr>\n",
       "      <th>4</th>\n",
       "      <td>5</td>\n",
       "      <td>David Brown</td>\n",
       "      <td>Male</td>\n",
       "      <td>24</td>\n",
       "      <td>Bachelor's</td>\n",
       "      <td>Computer Science</td>\n",
       "      <td>Princeton University</td>\n",
       "      <td>Placed</td>\n",
       "      <td>62000</td>\n",
       "      <td>3.9</td>\n",
       "      <td>2.0</td>\n",
       "    </tr>\n",
       "    <tr>\n",
       "      <th>5</th>\n",
       "      <td>6</td>\n",
       "      <td>Sarah Wilson</td>\n",
       "      <td>Female</td>\n",
       "      <td>25</td>\n",
       "      <td>Bachelor's</td>\n",
       "      <td>Electronics and Communication</td>\n",
       "      <td>Columbia University</td>\n",
       "      <td>Placed</td>\n",
       "      <td>63000</td>\n",
       "      <td>3.7</td>\n",
       "      <td>1.0</td>\n",
       "    </tr>\n",
       "  </tbody>\n",
       "</table>\n",
       "</div>"
      ],
      "text/plain": [
       "   id             name  gender  age      degree  \\\n",
       "0   1         John Doe    Male   25  Bachelor's   \n",
       "1   2       Jane Smith  Female   24  Bachelor's   \n",
       "2   3  Michael Johnson    Male   26  Bachelor's   \n",
       "4   5      David Brown    Male   24  Bachelor's   \n",
       "5   6     Sarah Wilson  Female   25  Bachelor's   \n",
       "\n",
       "                          stream                           college_name  \\\n",
       "0               Computer Science                     Harvard University   \n",
       "1         Electrical Engineering  Massachusetts Institute of Technology   \n",
       "2         Mechanical Engineering                    Stanford University   \n",
       "4               Computer Science                   Princeton University   \n",
       "5  Electronics and Communication                    Columbia University   \n",
       "\n",
       "  placement_status  salary  gpa  years_of_experience  \n",
       "0           Placed   60000  3.7                  2.0  \n",
       "1           Placed   65000  3.6                  1.0  \n",
       "2           Placed   58000  3.8                  3.0  \n",
       "4           Placed   62000  3.9                  2.0  \n",
       "5           Placed   63000  3.7                  1.0  "
      ]
     },
     "execution_count": 1224,
     "metadata": {},
     "output_type": "execute_result"
    }
   ],
   "source": [
    "placed.head()"
   ]
  },
  {
   "cell_type": "code",
   "execution_count": 1225,
   "id": "b36739f7",
   "metadata": {},
   "outputs": [
    {
     "data": {
      "text/plain": [
       "{'University of Colorado--Boulder': 43,\n",
       " 'University of Illinois--Urbana-Champaign': 43,\n",
       " 'University of California--Berkeley': 43,\n",
       " 'University of Michigan--Ann Arbor': 43,\n",
       " 'University of Virginia': 42,\n",
       " 'University of Maryland--College Park': 42,\n",
       " 'University of Washington': 40,\n",
       " 'University of Texas--Dallas': 34,\n",
       " 'University of California--San Francisco': 34,\n",
       " 'University of Delaware': 34,\n",
       " 'University of California--Santa Cruz': 34,\n",
       " 'University of Rochester': 34,\n",
       " 'University of Connecticut': 33,\n",
       " 'University of California--Los Angeles': 23,\n",
       " 'University of Texas--Austin': 17,\n",
       " 'University of California--San Diego': 10,\n",
       " 'Georgetown University': 1,\n",
       " 'University of Notre Dame': 1,\n",
       " 'University of California--Irvine': 1,\n",
       " 'Rice University': 1,\n",
       " 'University of Pittsburgh': 1,\n",
       " 'University of Iowa': 1,\n",
       " 'Harvard University': 1,\n",
       " 'University of California--Davis': 1,\n",
       " 'University of Florida': 1,\n",
       " 'Massachusetts Institute of Technology': 1,\n",
       " 'University of California--Santa Barbara': 1,\n",
       " 'University of North Carolina--Chapel Hill': 1,\n",
       " 'University of Wisconsin--Madison': 1,\n",
       " 'Duke University': 1,\n",
       " 'Northwestern University': 1,\n",
       " 'University of Pennsylvania': 1,\n",
       " 'California Institute of Technology': 1,\n",
       " 'Columbia University': 1,\n",
       " 'Princeton University': 1,\n",
       " 'Stanford University': 1,\n",
       " 'University of Southern California': 1}"
      ]
     },
     "execution_count": 1225,
     "metadata": {},
     "output_type": "execute_result"
    }
   ],
   "source": [
    "# Convert best colleges to dictionary\n",
    "\n",
    "Dict_College = placed['college_name'].value_counts().to_dict()\n",
    "Dict_College"
   ]
  },
  {
   "cell_type": "code",
   "execution_count": 1226,
   "id": "c532d31c",
   "metadata": {},
   "outputs": [
    {
     "data": {
      "text/plain": [
       "['University of Colorado--Boulder',\n",
       " 'University of Illinois--Urbana-Champaign',\n",
       " 'University of California--Berkeley',\n",
       " 'University of Michigan--Ann Arbor',\n",
       " 'University of Virginia',\n",
       " 'University of Maryland--College Park',\n",
       " 'University of Washington',\n",
       " 'University of Texas--Dallas',\n",
       " 'University of California--San Francisco',\n",
       " 'University of Delaware',\n",
       " 'University of California--Santa Cruz',\n",
       " 'University of Rochester',\n",
       " 'University of Connecticut',\n",
       " 'University of California--Los Angeles']"
      ]
     },
     "execution_count": 1226,
     "metadata": {},
     "output_type": "execute_result"
    }
   ],
   "source": [
    "best_colleges_placed = []\n",
    "\n",
    "for key, values in Dict_College.items():\n",
    "    if values > 20:\n",
    "        best_colleges_placed.append(key)\n",
    "\n",
    "best_colleges_placed"
   ]
  },
  {
   "cell_type": "code",
   "execution_count": 1227,
   "id": "3c5bcd5d",
   "metadata": {},
   "outputs": [
    {
     "data": {
      "text/plain": [
       "'Virginia'"
      ]
     },
     "execution_count": 1227,
     "metadata": {},
     "output_type": "execute_result"
    }
   ],
   "source": [
    "best_colleges_placed[4].split(' ')[-1]"
   ]
  },
  {
   "cell_type": "code",
   "execution_count": 1228,
   "id": "f3b797f8",
   "metadata": {},
   "outputs": [
    {
     "data": {
      "text/plain": [
       "'Virginia'"
      ]
     },
     "execution_count": 1228,
     "metadata": {},
     "output_type": "execute_result"
    }
   ],
   "source": [
    "def location(College):\n",
    "\n",
    "    if len(College.split('--')) > 1:\n",
    "        return College.split('--')[-1]\n",
    "    else:\n",
    "        return College.split(' ')[-1]\n",
    "    \n",
    "location(best_colleges_placed[4])"
   ]
  },
  {
   "cell_type": "code",
   "execution_count": 1229,
   "id": "fe0a6521",
   "metadata": {},
   "outputs": [
    {
     "data": {
      "text/plain": [
       "['Boulder',\n",
       " 'Urbana-Champaign',\n",
       " 'Berkeley',\n",
       " 'Ann Arbor',\n",
       " 'Virginia',\n",
       " 'College Park',\n",
       " 'Washington',\n",
       " 'Dallas',\n",
       " 'San Francisco',\n",
       " 'Delaware',\n",
       " 'Santa Cruz',\n",
       " 'Rochester',\n",
       " 'Connecticut',\n",
       " 'Los Angeles']"
      ]
     },
     "execution_count": 1229,
     "metadata": {},
     "output_type": "execute_result"
    }
   ],
   "source": [
    "loc = []\n",
    "for i in range(0, len(best_colleges_placed)):\n",
    "\n",
    "    loc.append(location(best_colleges_placed[i]))\n",
    "\n",
    "loc"
   ]
  },
  {
   "cell_type": "code",
   "execution_count": 1230,
   "id": "8f02499c",
   "metadata": {},
   "outputs": [
    {
     "data": {
      "text/plain": [
       "{'University of Colorado--Boulder': 'Boulder',\n",
       " 'University of Illinois--Urbana-Champaign': 'Urbana-Champaign',\n",
       " 'University of California--Berkeley': 'Berkeley',\n",
       " 'University of Michigan--Ann Arbor': 'Ann Arbor',\n",
       " 'University of Virginia': 'Virginia',\n",
       " 'University of Maryland--College Park': 'College Park',\n",
       " 'University of Washington': 'Washington',\n",
       " 'University of Texas--Dallas': 'Dallas',\n",
       " 'University of California--San Francisco': 'San Francisco',\n",
       " 'University of Delaware': 'Delaware',\n",
       " 'University of California--Santa Cruz': 'Santa Cruz',\n",
       " 'University of Rochester': 'Rochester',\n",
       " 'University of Connecticut': 'Connecticut',\n",
       " 'University of California--Los Angeles': 'Los Angeles'}"
      ]
     },
     "execution_count": 1230,
     "metadata": {},
     "output_type": "execute_result"
    }
   ],
   "source": [
    "final_dict = dict(zip(best_colleges_placed, loc))\n",
    "\n",
    "final_dict"
   ]
  },
  {
   "cell_type": "code",
   "execution_count": 1231,
   "id": "5cfab410",
   "metadata": {},
   "outputs": [
    {
     "data": {
      "text/html": [
       "<div>\n",
       "<style scoped>\n",
       "    .dataframe tbody tr th:only-of-type {\n",
       "        vertical-align: middle;\n",
       "    }\n",
       "\n",
       "    .dataframe tbody tr th {\n",
       "        vertical-align: top;\n",
       "    }\n",
       "\n",
       "    .dataframe thead th {\n",
       "        text-align: right;\n",
       "    }\n",
       "</style>\n",
       "<table border=\"1\" class=\"dataframe\">\n",
       "  <thead>\n",
       "    <tr style=\"text-align: right;\">\n",
       "      <th></th>\n",
       "      <th>id</th>\n",
       "      <th>name</th>\n",
       "      <th>gender</th>\n",
       "      <th>age</th>\n",
       "      <th>degree</th>\n",
       "      <th>stream</th>\n",
       "      <th>college_name</th>\n",
       "      <th>placement_status</th>\n",
       "      <th>salary</th>\n",
       "      <th>gpa</th>\n",
       "      <th>years_of_experience</th>\n",
       "    </tr>\n",
       "  </thead>\n",
       "  <tbody>\n",
       "    <tr>\n",
       "      <th>0</th>\n",
       "      <td>1</td>\n",
       "      <td>John Doe</td>\n",
       "      <td>Male</td>\n",
       "      <td>25</td>\n",
       "      <td>Bachelor's</td>\n",
       "      <td>Computer Science</td>\n",
       "      <td>Harvard University</td>\n",
       "      <td>Placed</td>\n",
       "      <td>60000</td>\n",
       "      <td>3.7</td>\n",
       "      <td>2.0</td>\n",
       "    </tr>\n",
       "    <tr>\n",
       "      <th>1</th>\n",
       "      <td>2</td>\n",
       "      <td>Jane Smith</td>\n",
       "      <td>Female</td>\n",
       "      <td>24</td>\n",
       "      <td>Bachelor's</td>\n",
       "      <td>Electrical Engineering</td>\n",
       "      <td>Massachusetts Institute of Technology</td>\n",
       "      <td>Placed</td>\n",
       "      <td>65000</td>\n",
       "      <td>3.6</td>\n",
       "      <td>1.0</td>\n",
       "    </tr>\n",
       "    <tr>\n",
       "      <th>2</th>\n",
       "      <td>3</td>\n",
       "      <td>Michael Johnson</td>\n",
       "      <td>Male</td>\n",
       "      <td>26</td>\n",
       "      <td>Bachelor's</td>\n",
       "      <td>Mechanical Engineering</td>\n",
       "      <td>Stanford University</td>\n",
       "      <td>Placed</td>\n",
       "      <td>58000</td>\n",
       "      <td>3.8</td>\n",
       "      <td>3.0</td>\n",
       "    </tr>\n",
       "    <tr>\n",
       "      <th>4</th>\n",
       "      <td>5</td>\n",
       "      <td>David Brown</td>\n",
       "      <td>Male</td>\n",
       "      <td>24</td>\n",
       "      <td>Bachelor's</td>\n",
       "      <td>Computer Science</td>\n",
       "      <td>Princeton University</td>\n",
       "      <td>Placed</td>\n",
       "      <td>62000</td>\n",
       "      <td>3.9</td>\n",
       "      <td>2.0</td>\n",
       "    </tr>\n",
       "    <tr>\n",
       "      <th>5</th>\n",
       "      <td>6</td>\n",
       "      <td>Sarah Wilson</td>\n",
       "      <td>Female</td>\n",
       "      <td>25</td>\n",
       "      <td>Bachelor's</td>\n",
       "      <td>Electronics and Communication</td>\n",
       "      <td>Columbia University</td>\n",
       "      <td>Placed</td>\n",
       "      <td>63000</td>\n",
       "      <td>3.7</td>\n",
       "      <td>1.0</td>\n",
       "    </tr>\n",
       "  </tbody>\n",
       "</table>\n",
       "</div>"
      ],
      "text/plain": [
       "   id             name  gender  age      degree  \\\n",
       "0   1         John Doe    Male   25  Bachelor's   \n",
       "1   2       Jane Smith  Female   24  Bachelor's   \n",
       "2   3  Michael Johnson    Male   26  Bachelor's   \n",
       "4   5      David Brown    Male   24  Bachelor's   \n",
       "5   6     Sarah Wilson  Female   25  Bachelor's   \n",
       "\n",
       "                          stream                           college_name  \\\n",
       "0               Computer Science                     Harvard University   \n",
       "1         Electrical Engineering  Massachusetts Institute of Technology   \n",
       "2         Mechanical Engineering                    Stanford University   \n",
       "4               Computer Science                   Princeton University   \n",
       "5  Electronics and Communication                    Columbia University   \n",
       "\n",
       "  placement_status  salary  gpa  years_of_experience  \n",
       "0           Placed   60000  3.7                  2.0  \n",
       "1           Placed   65000  3.6                  1.0  \n",
       "2           Placed   58000  3.8                  3.0  \n",
       "4           Placed   62000  3.9                  2.0  \n",
       "5           Placed   63000  3.7                  1.0  "
      ]
     },
     "execution_count": 1231,
     "metadata": {},
     "output_type": "execute_result"
    }
   ],
   "source": [
    "placed.head()"
   ]
  },
  {
   "cell_type": "code",
   "execution_count": 1232,
   "id": "8d41bb12",
   "metadata": {},
   "outputs": [
    {
     "name": "stderr",
     "output_type": "stream",
     "text": [
      "C:\\Users\\siddhu\\AppData\\Local\\Temp\\ipykernel_12476\\3307064387.py:1: SettingWithCopyWarning:\n",
      "\n",
      "\n",
      "A value is trying to be set on a copy of a slice from a DataFrame.\n",
      "Try using .loc[row_indexer,col_indexer] = value instead\n",
      "\n",
      "See the caveats in the documentation: https://pandas.pydata.org/pandas-docs/stable/user_guide/indexing.html#returning-a-view-versus-a-copy\n",
      "\n"
     ]
    },
    {
     "data": {
      "text/html": [
       "<div>\n",
       "<style scoped>\n",
       "    .dataframe tbody tr th:only-of-type {\n",
       "        vertical-align: middle;\n",
       "    }\n",
       "\n",
       "    .dataframe tbody tr th {\n",
       "        vertical-align: top;\n",
       "    }\n",
       "\n",
       "    .dataframe thead th {\n",
       "        text-align: right;\n",
       "    }\n",
       "</style>\n",
       "<table border=\"1\" class=\"dataframe\">\n",
       "  <thead>\n",
       "    <tr style=\"text-align: right;\">\n",
       "      <th></th>\n",
       "      <th>id</th>\n",
       "      <th>name</th>\n",
       "      <th>gender</th>\n",
       "      <th>age</th>\n",
       "      <th>degree</th>\n",
       "      <th>stream</th>\n",
       "      <th>college_name</th>\n",
       "      <th>placement_status</th>\n",
       "      <th>salary</th>\n",
       "      <th>gpa</th>\n",
       "      <th>years_of_experience</th>\n",
       "      <th>location</th>\n",
       "    </tr>\n",
       "  </thead>\n",
       "  <tbody>\n",
       "    <tr>\n",
       "      <th>0</th>\n",
       "      <td>1</td>\n",
       "      <td>John Doe</td>\n",
       "      <td>Male</td>\n",
       "      <td>25</td>\n",
       "      <td>Bachelor's</td>\n",
       "      <td>Computer Science</td>\n",
       "      <td>Harvard University</td>\n",
       "      <td>Placed</td>\n",
       "      <td>60000</td>\n",
       "      <td>3.7</td>\n",
       "      <td>2.0</td>\n",
       "      <td>NaN</td>\n",
       "    </tr>\n",
       "    <tr>\n",
       "      <th>1</th>\n",
       "      <td>2</td>\n",
       "      <td>Jane Smith</td>\n",
       "      <td>Female</td>\n",
       "      <td>24</td>\n",
       "      <td>Bachelor's</td>\n",
       "      <td>Electrical Engineering</td>\n",
       "      <td>Massachusetts Institute of Technology</td>\n",
       "      <td>Placed</td>\n",
       "      <td>65000</td>\n",
       "      <td>3.6</td>\n",
       "      <td>1.0</td>\n",
       "      <td>NaN</td>\n",
       "    </tr>\n",
       "    <tr>\n",
       "      <th>2</th>\n",
       "      <td>3</td>\n",
       "      <td>Michael Johnson</td>\n",
       "      <td>Male</td>\n",
       "      <td>26</td>\n",
       "      <td>Bachelor's</td>\n",
       "      <td>Mechanical Engineering</td>\n",
       "      <td>Stanford University</td>\n",
       "      <td>Placed</td>\n",
       "      <td>58000</td>\n",
       "      <td>3.8</td>\n",
       "      <td>3.0</td>\n",
       "      <td>NaN</td>\n",
       "    </tr>\n",
       "    <tr>\n",
       "      <th>4</th>\n",
       "      <td>5</td>\n",
       "      <td>David Brown</td>\n",
       "      <td>Male</td>\n",
       "      <td>24</td>\n",
       "      <td>Bachelor's</td>\n",
       "      <td>Computer Science</td>\n",
       "      <td>Princeton University</td>\n",
       "      <td>Placed</td>\n",
       "      <td>62000</td>\n",
       "      <td>3.9</td>\n",
       "      <td>2.0</td>\n",
       "      <td>NaN</td>\n",
       "    </tr>\n",
       "    <tr>\n",
       "      <th>5</th>\n",
       "      <td>6</td>\n",
       "      <td>Sarah Wilson</td>\n",
       "      <td>Female</td>\n",
       "      <td>25</td>\n",
       "      <td>Bachelor's</td>\n",
       "      <td>Electronics and Communication</td>\n",
       "      <td>Columbia University</td>\n",
       "      <td>Placed</td>\n",
       "      <td>63000</td>\n",
       "      <td>3.7</td>\n",
       "      <td>1.0</td>\n",
       "      <td>NaN</td>\n",
       "    </tr>\n",
       "  </tbody>\n",
       "</table>\n",
       "</div>"
      ],
      "text/plain": [
       "   id             name  gender  age      degree  \\\n",
       "0   1         John Doe    Male   25  Bachelor's   \n",
       "1   2       Jane Smith  Female   24  Bachelor's   \n",
       "2   3  Michael Johnson    Male   26  Bachelor's   \n",
       "4   5      David Brown    Male   24  Bachelor's   \n",
       "5   6     Sarah Wilson  Female   25  Bachelor's   \n",
       "\n",
       "                          stream                           college_name  \\\n",
       "0               Computer Science                     Harvard University   \n",
       "1         Electrical Engineering  Massachusetts Institute of Technology   \n",
       "2         Mechanical Engineering                    Stanford University   \n",
       "4               Computer Science                   Princeton University   \n",
       "5  Electronics and Communication                    Columbia University   \n",
       "\n",
       "  placement_status  salary  gpa  years_of_experience location  \n",
       "0           Placed   60000  3.7                  2.0      NaN  \n",
       "1           Placed   65000  3.6                  1.0      NaN  \n",
       "2           Placed   58000  3.8                  3.0      NaN  \n",
       "4           Placed   62000  3.9                  2.0      NaN  \n",
       "5           Placed   63000  3.7                  1.0      NaN  "
      ]
     },
     "execution_count": 1232,
     "metadata": {},
     "output_type": "execute_result"
    }
   ],
   "source": [
    "placed['location'] = placed['college_name'].map(final_dict)\n",
    "\n",
    "placed.head()"
   ]
  },
  {
   "cell_type": "code",
   "execution_count": 1233,
   "id": "818e75e2",
   "metadata": {},
   "outputs": [
    {
     "name": "stdout",
     "output_type": "stream",
     "text": [
      "Shape of placed dataframe (570, 12)\n"
     ]
    }
   ],
   "source": [
    "print(f\"Shape of placed dataframe {placed.shape}\")"
   ]
  },
  {
   "cell_type": "code",
   "execution_count": 1234,
   "id": "8fbe8f8f",
   "metadata": {},
   "outputs": [
    {
     "name": "stdout",
     "output_type": "stream",
     "text": [
      "Null values of placed dataframe \n",
      "id                      0\n",
      "name                    0\n",
      "gender                  0\n",
      "age                     0\n",
      "degree                  0\n",
      "stream                  0\n",
      "college_name            0\n",
      "placement_status        0\n",
      "salary                  0\n",
      "gpa                     0\n",
      "years_of_experience     0\n",
      "location               48\n",
      "dtype: int64\n"
     ]
    }
   ],
   "source": [
    "print(f\"Null values of placed dataframe \\n{placed.isnull().sum()}\")"
   ]
  },
  {
   "cell_type": "code",
   "execution_count": 1235,
   "id": "bc549fc0",
   "metadata": {},
   "outputs": [
    {
     "data": {
      "text/html": [
       "<div>\n",
       "<style scoped>\n",
       "    .dataframe tbody tr th:only-of-type {\n",
       "        vertical-align: middle;\n",
       "    }\n",
       "\n",
       "    .dataframe tbody tr th {\n",
       "        vertical-align: top;\n",
       "    }\n",
       "\n",
       "    .dataframe thead th {\n",
       "        text-align: right;\n",
       "    }\n",
       "</style>\n",
       "<table border=\"1\" class=\"dataframe\">\n",
       "  <thead>\n",
       "    <tr style=\"text-align: right;\">\n",
       "      <th></th>\n",
       "      <th>id</th>\n",
       "      <th>name</th>\n",
       "      <th>gender</th>\n",
       "      <th>age</th>\n",
       "      <th>degree</th>\n",
       "      <th>stream</th>\n",
       "      <th>college_name</th>\n",
       "      <th>placement_status</th>\n",
       "      <th>salary</th>\n",
       "      <th>gpa</th>\n",
       "      <th>years_of_experience</th>\n",
       "      <th>location</th>\n",
       "    </tr>\n",
       "  </thead>\n",
       "  <tbody>\n",
       "    <tr>\n",
       "      <th>12</th>\n",
       "      <td>13</td>\n",
       "      <td>Daniel Martinez</td>\n",
       "      <td>Male</td>\n",
       "      <td>26</td>\n",
       "      <td>Bachelor's</td>\n",
       "      <td>Information Technology</td>\n",
       "      <td>University of California--Berkeley</td>\n",
       "      <td>Placed</td>\n",
       "      <td>63000</td>\n",
       "      <td>3.7</td>\n",
       "      <td>2.0</td>\n",
       "      <td>Berkeley</td>\n",
       "    </tr>\n",
       "    <tr>\n",
       "      <th>13</th>\n",
       "      <td>14</td>\n",
       "      <td>Mia Gonzalez</td>\n",
       "      <td>Female</td>\n",
       "      <td>24</td>\n",
       "      <td>Bachelor's</td>\n",
       "      <td>Computer Science</td>\n",
       "      <td>University of Michigan--Ann Arbor</td>\n",
       "      <td>Placed</td>\n",
       "      <td>64000</td>\n",
       "      <td>3.6</td>\n",
       "      <td>1.0</td>\n",
       "      <td>Ann Arbor</td>\n",
       "    </tr>\n",
       "    <tr>\n",
       "      <th>14</th>\n",
       "      <td>15</td>\n",
       "      <td>Alexander Rodriguez</td>\n",
       "      <td>Male</td>\n",
       "      <td>23</td>\n",
       "      <td>Bachelor's</td>\n",
       "      <td>Electrical Engineering</td>\n",
       "      <td>University of California--Los Angeles</td>\n",
       "      <td>Placed</td>\n",
       "      <td>66000</td>\n",
       "      <td>3.8</td>\n",
       "      <td>3.0</td>\n",
       "      <td>Los Angeles</td>\n",
       "    </tr>\n",
       "    <tr>\n",
       "      <th>17</th>\n",
       "      <td>18</td>\n",
       "      <td>Olivia Moore</td>\n",
       "      <td>Female</td>\n",
       "      <td>24</td>\n",
       "      <td>Bachelor's</td>\n",
       "      <td>Electronics and Communication</td>\n",
       "      <td>University of Illinois--Urbana-Champaign</td>\n",
       "      <td>Placed</td>\n",
       "      <td>62000</td>\n",
       "      <td>3.8</td>\n",
       "      <td>1.0</td>\n",
       "      <td>Urbana-Champaign</td>\n",
       "    </tr>\n",
       "    <tr>\n",
       "      <th>19</th>\n",
       "      <td>20</td>\n",
       "      <td>Amelia Rivera</td>\n",
       "      <td>Female</td>\n",
       "      <td>25</td>\n",
       "      <td>Bachelor's</td>\n",
       "      <td>Computer Science</td>\n",
       "      <td>University of Washington</td>\n",
       "      <td>Placed</td>\n",
       "      <td>65000</td>\n",
       "      <td>3.6</td>\n",
       "      <td>1.0</td>\n",
       "      <td>Washington</td>\n",
       "    </tr>\n",
       "  </tbody>\n",
       "</table>\n",
       "</div>"
      ],
      "text/plain": [
       "    id                 name  gender  age      degree  \\\n",
       "12  13      Daniel Martinez    Male   26  Bachelor's   \n",
       "13  14         Mia Gonzalez  Female   24  Bachelor's   \n",
       "14  15  Alexander Rodriguez    Male   23  Bachelor's   \n",
       "17  18         Olivia Moore  Female   24  Bachelor's   \n",
       "19  20        Amelia Rivera  Female   25  Bachelor's   \n",
       "\n",
       "                           stream                              college_name  \\\n",
       "12         Information Technology        University of California--Berkeley   \n",
       "13               Computer Science         University of Michigan--Ann Arbor   \n",
       "14         Electrical Engineering     University of California--Los Angeles   \n",
       "17  Electronics and Communication  University of Illinois--Urbana-Champaign   \n",
       "19               Computer Science                  University of Washington   \n",
       "\n",
       "   placement_status  salary  gpa  years_of_experience          location  \n",
       "12           Placed   63000  3.7                  2.0          Berkeley  \n",
       "13           Placed   64000  3.6                  1.0         Ann Arbor  \n",
       "14           Placed   66000  3.8                  3.0       Los Angeles  \n",
       "17           Placed   62000  3.8                  1.0  Urbana-Champaign  \n",
       "19           Placed   65000  3.6                  1.0        Washington  "
      ]
     },
     "execution_count": 1235,
     "metadata": {},
     "output_type": "execute_result"
    }
   ],
   "source": [
    "# Only 48 rows are affected which are not best colleges\n",
    "\n",
    "placed = placed[placed['college_name'].isin(best_colleges_placed)]\n",
    "\n",
    "placed.head()"
   ]
  },
  {
   "cell_type": "code",
   "execution_count": 1236,
   "id": "48fa53e8",
   "metadata": {},
   "outputs": [
    {
     "name": "stdout",
     "output_type": "stream",
     "text": [
      "Null values of placed dataframe \n",
      "id                     0\n",
      "name                   0\n",
      "gender                 0\n",
      "age                    0\n",
      "degree                 0\n",
      "stream                 0\n",
      "college_name           0\n",
      "placement_status       0\n",
      "salary                 0\n",
      "gpa                    0\n",
      "years_of_experience    0\n",
      "location               0\n",
      "dtype: int64\n"
     ]
    }
   ],
   "source": [
    "print(f\"Null values of placed dataframe \\n{placed.isnull().sum()}\")"
   ]
  },
  {
   "cell_type": "markdown",
   "id": "356cb2b3",
   "metadata": {},
   "source": [
    "Not Placed Dataset Preprocessing"
   ]
  },
  {
   "cell_type": "code",
   "execution_count": 1237,
   "id": "cfd384c6",
   "metadata": {},
   "outputs": [
    {
     "data": {
      "text/plain": [
       "{'University of North Carolina--Chapel Hill': 41,\n",
       " 'University of Pennsylvania': 39,\n",
       " 'University of California--Riverside': 34,\n",
       " 'University of California--Santa Cruz': 8,\n",
       " 'Yale University': 1,\n",
       " 'University of Chicago': 1,\n",
       " 'Johns Hopkins University': 1,\n",
       " 'University of Virginia': 1,\n",
       " 'University of Texas--Austin': 1,\n",
       " 'University of Minnesota--Twin Cities': 1,\n",
       " 'Boston College': 1,\n",
       " 'University of Georgia': 1}"
      ]
     },
     "execution_count": 1237,
     "metadata": {},
     "output_type": "execute_result"
    }
   ],
   "source": [
    "# Convert best colleges to dictionary\n",
    "\n",
    "Dict_College = not_placed['college_name'].value_counts().to_dict()\n",
    "Dict_College"
   ]
  },
  {
   "cell_type": "code",
   "execution_count": 1238,
   "id": "0db960cd",
   "metadata": {},
   "outputs": [
    {
     "data": {
      "text/plain": [
       "['University of North Carolina--Chapel Hill',\n",
       " 'University of Pennsylvania',\n",
       " 'University of California--Riverside']"
      ]
     },
     "execution_count": 1238,
     "metadata": {},
     "output_type": "execute_result"
    }
   ],
   "source": [
    "Not_placed_colleges = []\n",
    "\n",
    "for key, values in Dict_College.items():\n",
    "    if values > 20:\n",
    "        Not_placed_colleges.append(key)\n",
    "\n",
    "Not_placed_colleges"
   ]
  },
  {
   "cell_type": "code",
   "execution_count": 1239,
   "id": "fbe6fec2",
   "metadata": {},
   "outputs": [
    {
     "data": {
      "text/plain": [
       "'Pennsylvania'"
      ]
     },
     "execution_count": 1239,
     "metadata": {},
     "output_type": "execute_result"
    }
   ],
   "source": [
    "Not_placed_colleges[1].split(' ')[-1]"
   ]
  },
  {
   "cell_type": "code",
   "execution_count": 1240,
   "id": "01ad9c54",
   "metadata": {},
   "outputs": [
    {
     "data": {
      "text/plain": [
       "'Pennsylvania'"
      ]
     },
     "execution_count": 1240,
     "metadata": {},
     "output_type": "execute_result"
    }
   ],
   "source": [
    "def location(College):\n",
    "\n",
    "    if len(College.split('--')) > 1:\n",
    "        return College.split('--')[-1]\n",
    "    else:\n",
    "        return College.split(' ')[-1]\n",
    "    \n",
    "location(Not_placed_colleges[1])"
   ]
  },
  {
   "cell_type": "code",
   "execution_count": 1241,
   "id": "250c144d",
   "metadata": {},
   "outputs": [
    {
     "data": {
      "text/plain": [
       "['Chapel Hill', 'Pennsylvania', 'Riverside']"
      ]
     },
     "execution_count": 1241,
     "metadata": {},
     "output_type": "execute_result"
    }
   ],
   "source": [
    "loc = []\n",
    "for i in range(0, len(Not_placed_colleges)):\n",
    "\n",
    "    loc.append(location(Not_placed_colleges[i]))\n",
    "\n",
    "loc"
   ]
  },
  {
   "cell_type": "code",
   "execution_count": 1242,
   "id": "f5f5490e",
   "metadata": {},
   "outputs": [
    {
     "data": {
      "text/plain": [
       "{'University of North Carolina--Chapel Hill': 'Chapel Hill',\n",
       " 'University of Pennsylvania': 'Pennsylvania',\n",
       " 'University of California--Riverside': 'Riverside'}"
      ]
     },
     "execution_count": 1242,
     "metadata": {},
     "output_type": "execute_result"
    }
   ],
   "source": [
    "final_dict = dict(zip(Not_placed_colleges, loc))\n",
    "\n",
    "final_dict"
   ]
  },
  {
   "cell_type": "code",
   "execution_count": 1243,
   "id": "58b03a8c",
   "metadata": {},
   "outputs": [
    {
     "data": {
      "text/html": [
       "<div>\n",
       "<style scoped>\n",
       "    .dataframe tbody tr th:only-of-type {\n",
       "        vertical-align: middle;\n",
       "    }\n",
       "\n",
       "    .dataframe tbody tr th {\n",
       "        vertical-align: top;\n",
       "    }\n",
       "\n",
       "    .dataframe thead th {\n",
       "        text-align: right;\n",
       "    }\n",
       "</style>\n",
       "<table border=\"1\" class=\"dataframe\">\n",
       "  <thead>\n",
       "    <tr style=\"text-align: right;\">\n",
       "      <th></th>\n",
       "      <th>id</th>\n",
       "      <th>name</th>\n",
       "      <th>gender</th>\n",
       "      <th>age</th>\n",
       "      <th>degree</th>\n",
       "      <th>stream</th>\n",
       "      <th>college_name</th>\n",
       "      <th>placement_status</th>\n",
       "      <th>salary</th>\n",
       "      <th>gpa</th>\n",
       "      <th>years_of_experience</th>\n",
       "    </tr>\n",
       "  </thead>\n",
       "  <tbody>\n",
       "    <tr>\n",
       "      <th>3</th>\n",
       "      <td>4</td>\n",
       "      <td>Emily Davis</td>\n",
       "      <td>Female</td>\n",
       "      <td>23</td>\n",
       "      <td>Bachelor's</td>\n",
       "      <td>Information Technology</td>\n",
       "      <td>Yale University</td>\n",
       "      <td>Not Placed</td>\n",
       "      <td>0</td>\n",
       "      <td>3.5</td>\n",
       "      <td>2.0</td>\n",
       "    </tr>\n",
       "    <tr>\n",
       "      <th>7</th>\n",
       "      <td>8</td>\n",
       "      <td>Emma Garcia</td>\n",
       "      <td>Female</td>\n",
       "      <td>24</td>\n",
       "      <td>Bachelor's</td>\n",
       "      <td>Computer Science</td>\n",
       "      <td>University of Chicago</td>\n",
       "      <td>Not Placed</td>\n",
       "      <td>0</td>\n",
       "      <td>3.6</td>\n",
       "      <td>2.0</td>\n",
       "    </tr>\n",
       "    <tr>\n",
       "      <th>11</th>\n",
       "      <td>12</td>\n",
       "      <td>Ava Lopez</td>\n",
       "      <td>Female</td>\n",
       "      <td>25</td>\n",
       "      <td>Bachelor's</td>\n",
       "      <td>Electronics and Communication</td>\n",
       "      <td>Johns Hopkins University</td>\n",
       "      <td>Not Placed</td>\n",
       "      <td>0</td>\n",
       "      <td>3.8</td>\n",
       "      <td>3.0</td>\n",
       "    </tr>\n",
       "    <tr>\n",
       "      <th>15</th>\n",
       "      <td>16</td>\n",
       "      <td>Isabella Perez</td>\n",
       "      <td>Female</td>\n",
       "      <td>25</td>\n",
       "      <td>Bachelor's</td>\n",
       "      <td>Mechanical Engineering</td>\n",
       "      <td>University of Virginia</td>\n",
       "      <td>Not Placed</td>\n",
       "      <td>0</td>\n",
       "      <td>3.7</td>\n",
       "      <td>2.0</td>\n",
       "    </tr>\n",
       "    <tr>\n",
       "      <th>21</th>\n",
       "      <td>22</td>\n",
       "      <td>Elizabeth Wood</td>\n",
       "      <td>Female</td>\n",
       "      <td>26</td>\n",
       "      <td>Bachelor's</td>\n",
       "      <td>Mechanical Engineering</td>\n",
       "      <td>University of Texas--Austin</td>\n",
       "      <td>Not Placed</td>\n",
       "      <td>0</td>\n",
       "      <td>3.8</td>\n",
       "      <td>3.0</td>\n",
       "    </tr>\n",
       "  </tbody>\n",
       "</table>\n",
       "</div>"
      ],
      "text/plain": [
       "    id            name  gender  age      degree  \\\n",
       "3    4     Emily Davis  Female   23  Bachelor's   \n",
       "7    8     Emma Garcia  Female   24  Bachelor's   \n",
       "11  12       Ava Lopez  Female   25  Bachelor's   \n",
       "15  16  Isabella Perez  Female   25  Bachelor's   \n",
       "21  22  Elizabeth Wood  Female   26  Bachelor's   \n",
       "\n",
       "                           stream                 college_name  \\\n",
       "3          Information Technology              Yale University   \n",
       "7                Computer Science        University of Chicago   \n",
       "11  Electronics and Communication     Johns Hopkins University   \n",
       "15         Mechanical Engineering       University of Virginia   \n",
       "21         Mechanical Engineering  University of Texas--Austin   \n",
       "\n",
       "   placement_status  salary  gpa  years_of_experience  \n",
       "3        Not Placed       0  3.5                  2.0  \n",
       "7        Not Placed       0  3.6                  2.0  \n",
       "11       Not Placed       0  3.8                  3.0  \n",
       "15       Not Placed       0  3.7                  2.0  \n",
       "21       Not Placed       0  3.8                  3.0  "
      ]
     },
     "execution_count": 1243,
     "metadata": {},
     "output_type": "execute_result"
    }
   ],
   "source": [
    "not_placed.head()"
   ]
  },
  {
   "cell_type": "code",
   "execution_count": 1244,
   "id": "3ff8be0a",
   "metadata": {},
   "outputs": [
    {
     "name": "stderr",
     "output_type": "stream",
     "text": [
      "C:\\Users\\siddhu\\AppData\\Local\\Temp\\ipykernel_12476\\567192272.py:1: SettingWithCopyWarning:\n",
      "\n",
      "\n",
      "A value is trying to be set on a copy of a slice from a DataFrame.\n",
      "Try using .loc[row_indexer,col_indexer] = value instead\n",
      "\n",
      "See the caveats in the documentation: https://pandas.pydata.org/pandas-docs/stable/user_guide/indexing.html#returning-a-view-versus-a-copy\n",
      "\n"
     ]
    },
    {
     "data": {
      "text/html": [
       "<div>\n",
       "<style scoped>\n",
       "    .dataframe tbody tr th:only-of-type {\n",
       "        vertical-align: middle;\n",
       "    }\n",
       "\n",
       "    .dataframe tbody tr th {\n",
       "        vertical-align: top;\n",
       "    }\n",
       "\n",
       "    .dataframe thead th {\n",
       "        text-align: right;\n",
       "    }\n",
       "</style>\n",
       "<table border=\"1\" class=\"dataframe\">\n",
       "  <thead>\n",
       "    <tr style=\"text-align: right;\">\n",
       "      <th></th>\n",
       "      <th>id</th>\n",
       "      <th>name</th>\n",
       "      <th>gender</th>\n",
       "      <th>age</th>\n",
       "      <th>degree</th>\n",
       "      <th>stream</th>\n",
       "      <th>college_name</th>\n",
       "      <th>placement_status</th>\n",
       "      <th>salary</th>\n",
       "      <th>gpa</th>\n",
       "      <th>years_of_experience</th>\n",
       "      <th>location</th>\n",
       "    </tr>\n",
       "  </thead>\n",
       "  <tbody>\n",
       "    <tr>\n",
       "      <th>3</th>\n",
       "      <td>4</td>\n",
       "      <td>Emily Davis</td>\n",
       "      <td>Female</td>\n",
       "      <td>23</td>\n",
       "      <td>Bachelor's</td>\n",
       "      <td>Information Technology</td>\n",
       "      <td>Yale University</td>\n",
       "      <td>Not Placed</td>\n",
       "      <td>0</td>\n",
       "      <td>3.5</td>\n",
       "      <td>2.0</td>\n",
       "      <td>NaN</td>\n",
       "    </tr>\n",
       "    <tr>\n",
       "      <th>7</th>\n",
       "      <td>8</td>\n",
       "      <td>Emma Garcia</td>\n",
       "      <td>Female</td>\n",
       "      <td>24</td>\n",
       "      <td>Bachelor's</td>\n",
       "      <td>Computer Science</td>\n",
       "      <td>University of Chicago</td>\n",
       "      <td>Not Placed</td>\n",
       "      <td>0</td>\n",
       "      <td>3.6</td>\n",
       "      <td>2.0</td>\n",
       "      <td>NaN</td>\n",
       "    </tr>\n",
       "    <tr>\n",
       "      <th>11</th>\n",
       "      <td>12</td>\n",
       "      <td>Ava Lopez</td>\n",
       "      <td>Female</td>\n",
       "      <td>25</td>\n",
       "      <td>Bachelor's</td>\n",
       "      <td>Electronics and Communication</td>\n",
       "      <td>Johns Hopkins University</td>\n",
       "      <td>Not Placed</td>\n",
       "      <td>0</td>\n",
       "      <td>3.8</td>\n",
       "      <td>3.0</td>\n",
       "      <td>NaN</td>\n",
       "    </tr>\n",
       "    <tr>\n",
       "      <th>15</th>\n",
       "      <td>16</td>\n",
       "      <td>Isabella Perez</td>\n",
       "      <td>Female</td>\n",
       "      <td>25</td>\n",
       "      <td>Bachelor's</td>\n",
       "      <td>Mechanical Engineering</td>\n",
       "      <td>University of Virginia</td>\n",
       "      <td>Not Placed</td>\n",
       "      <td>0</td>\n",
       "      <td>3.7</td>\n",
       "      <td>2.0</td>\n",
       "      <td>NaN</td>\n",
       "    </tr>\n",
       "    <tr>\n",
       "      <th>21</th>\n",
       "      <td>22</td>\n",
       "      <td>Elizabeth Wood</td>\n",
       "      <td>Female</td>\n",
       "      <td>26</td>\n",
       "      <td>Bachelor's</td>\n",
       "      <td>Mechanical Engineering</td>\n",
       "      <td>University of Texas--Austin</td>\n",
       "      <td>Not Placed</td>\n",
       "      <td>0</td>\n",
       "      <td>3.8</td>\n",
       "      <td>3.0</td>\n",
       "      <td>NaN</td>\n",
       "    </tr>\n",
       "  </tbody>\n",
       "</table>\n",
       "</div>"
      ],
      "text/plain": [
       "    id            name  gender  age      degree  \\\n",
       "3    4     Emily Davis  Female   23  Bachelor's   \n",
       "7    8     Emma Garcia  Female   24  Bachelor's   \n",
       "11  12       Ava Lopez  Female   25  Bachelor's   \n",
       "15  16  Isabella Perez  Female   25  Bachelor's   \n",
       "21  22  Elizabeth Wood  Female   26  Bachelor's   \n",
       "\n",
       "                           stream                 college_name  \\\n",
       "3          Information Technology              Yale University   \n",
       "7                Computer Science        University of Chicago   \n",
       "11  Electronics and Communication     Johns Hopkins University   \n",
       "15         Mechanical Engineering       University of Virginia   \n",
       "21         Mechanical Engineering  University of Texas--Austin   \n",
       "\n",
       "   placement_status  salary  gpa  years_of_experience location  \n",
       "3        Not Placed       0  3.5                  2.0      NaN  \n",
       "7        Not Placed       0  3.6                  2.0      NaN  \n",
       "11       Not Placed       0  3.8                  3.0      NaN  \n",
       "15       Not Placed       0  3.7                  2.0      NaN  \n",
       "21       Not Placed       0  3.8                  3.0      NaN  "
      ]
     },
     "execution_count": 1244,
     "metadata": {},
     "output_type": "execute_result"
    }
   ],
   "source": [
    "not_placed['location'] = not_placed['college_name'].map(final_dict)\n",
    "\n",
    "not_placed.head()"
   ]
  },
  {
   "cell_type": "code",
   "execution_count": 1245,
   "id": "f3c8320a",
   "metadata": {},
   "outputs": [
    {
     "name": "stdout",
     "output_type": "stream",
     "text": [
      "Shape of placed dataframe (130, 12)\n"
     ]
    }
   ],
   "source": [
    "print(f\"Shape of placed dataframe {not_placed.shape}\")"
   ]
  },
  {
   "cell_type": "code",
   "execution_count": 1246,
   "id": "5f21ad65",
   "metadata": {},
   "outputs": [
    {
     "name": "stdout",
     "output_type": "stream",
     "text": [
      "Null values of placed dataframe \n",
      "id                      0\n",
      "name                    0\n",
      "gender                  0\n",
      "age                     0\n",
      "degree                  0\n",
      "stream                  0\n",
      "college_name            0\n",
      "placement_status        0\n",
      "salary                  0\n",
      "gpa                     0\n",
      "years_of_experience     0\n",
      "location               16\n",
      "dtype: int64\n"
     ]
    }
   ],
   "source": [
    "print(f\"Null values of placed dataframe \\n{not_placed.isnull().sum()}\")"
   ]
  },
  {
   "cell_type": "code",
   "execution_count": 1247,
   "id": "c4b46f62",
   "metadata": {},
   "outputs": [
    {
     "data": {
      "text/html": [
       "<div>\n",
       "<style scoped>\n",
       "    .dataframe tbody tr th:only-of-type {\n",
       "        vertical-align: middle;\n",
       "    }\n",
       "\n",
       "    .dataframe tbody tr th {\n",
       "        vertical-align: top;\n",
       "    }\n",
       "\n",
       "    .dataframe thead th {\n",
       "        text-align: right;\n",
       "    }\n",
       "</style>\n",
       "<table border=\"1\" class=\"dataframe\">\n",
       "  <thead>\n",
       "    <tr style=\"text-align: right;\">\n",
       "      <th></th>\n",
       "      <th>id</th>\n",
       "      <th>name</th>\n",
       "      <th>gender</th>\n",
       "      <th>age</th>\n",
       "      <th>degree</th>\n",
       "      <th>stream</th>\n",
       "      <th>college_name</th>\n",
       "      <th>placement_status</th>\n",
       "      <th>salary</th>\n",
       "      <th>gpa</th>\n",
       "      <th>years_of_experience</th>\n",
       "      <th>location</th>\n",
       "    </tr>\n",
       "  </thead>\n",
       "  <tbody>\n",
       "    <tr>\n",
       "      <th>40</th>\n",
       "      <td>41</td>\n",
       "      <td>Daniel Martinez</td>\n",
       "      <td>Male</td>\n",
       "      <td>24</td>\n",
       "      <td>Bachelor's</td>\n",
       "      <td>Computer Science</td>\n",
       "      <td>University of California--Riverside</td>\n",
       "      <td>Not Placed</td>\n",
       "      <td>0</td>\n",
       "      <td>3.9</td>\n",
       "      <td>2.0</td>\n",
       "      <td>Riverside</td>\n",
       "    </tr>\n",
       "    <tr>\n",
       "      <th>50</th>\n",
       "      <td>51</td>\n",
       "      <td>Elijah Kelly</td>\n",
       "      <td>Male</td>\n",
       "      <td>23</td>\n",
       "      <td>Bachelor's</td>\n",
       "      <td>Electrical Engineering</td>\n",
       "      <td>University of Pennsylvania</td>\n",
       "      <td>Not Placed</td>\n",
       "      <td>0</td>\n",
       "      <td>3.7</td>\n",
       "      <td>2.0</td>\n",
       "      <td>Pennsylvania</td>\n",
       "    </tr>\n",
       "    <tr>\n",
       "      <th>55</th>\n",
       "      <td>56</td>\n",
       "      <td>Olivia Moore</td>\n",
       "      <td>Female</td>\n",
       "      <td>25</td>\n",
       "      <td>Bachelor's</td>\n",
       "      <td>Computer Science</td>\n",
       "      <td>University of North Carolina--Chapel Hill</td>\n",
       "      <td>Not Placed</td>\n",
       "      <td>0</td>\n",
       "      <td>3.6</td>\n",
       "      <td>1.0</td>\n",
       "      <td>Chapel Hill</td>\n",
       "    </tr>\n",
       "    <tr>\n",
       "      <th>60</th>\n",
       "      <td>61</td>\n",
       "      <td>Daniel Martinez</td>\n",
       "      <td>Male</td>\n",
       "      <td>24</td>\n",
       "      <td>Bachelor's</td>\n",
       "      <td>Computer Science</td>\n",
       "      <td>University of California--Riverside</td>\n",
       "      <td>Not Placed</td>\n",
       "      <td>0</td>\n",
       "      <td>3.9</td>\n",
       "      <td>2.0</td>\n",
       "      <td>Riverside</td>\n",
       "    </tr>\n",
       "    <tr>\n",
       "      <th>70</th>\n",
       "      <td>71</td>\n",
       "      <td>Elijah Kelly</td>\n",
       "      <td>Male</td>\n",
       "      <td>23</td>\n",
       "      <td>Bachelor's</td>\n",
       "      <td>Electrical Engineering</td>\n",
       "      <td>University of Pennsylvania</td>\n",
       "      <td>Not Placed</td>\n",
       "      <td>0</td>\n",
       "      <td>3.7</td>\n",
       "      <td>2.0</td>\n",
       "      <td>Pennsylvania</td>\n",
       "    </tr>\n",
       "  </tbody>\n",
       "</table>\n",
       "</div>"
      ],
      "text/plain": [
       "    id             name  gender  age      degree                  stream  \\\n",
       "40  41  Daniel Martinez    Male   24  Bachelor's        Computer Science   \n",
       "50  51     Elijah Kelly    Male   23  Bachelor's  Electrical Engineering   \n",
       "55  56     Olivia Moore  Female   25  Bachelor's        Computer Science   \n",
       "60  61  Daniel Martinez    Male   24  Bachelor's        Computer Science   \n",
       "70  71     Elijah Kelly    Male   23  Bachelor's  Electrical Engineering   \n",
       "\n",
       "                                 college_name placement_status  salary  gpa  \\\n",
       "40        University of California--Riverside       Not Placed       0  3.9   \n",
       "50                 University of Pennsylvania       Not Placed       0  3.7   \n",
       "55  University of North Carolina--Chapel Hill       Not Placed       0  3.6   \n",
       "60        University of California--Riverside       Not Placed       0  3.9   \n",
       "70                 University of Pennsylvania       Not Placed       0  3.7   \n",
       "\n",
       "    years_of_experience      location  \n",
       "40                  2.0     Riverside  \n",
       "50                  2.0  Pennsylvania  \n",
       "55                  1.0   Chapel Hill  \n",
       "60                  2.0     Riverside  \n",
       "70                  2.0  Pennsylvania  "
      ]
     },
     "execution_count": 1247,
     "metadata": {},
     "output_type": "execute_result"
    }
   ],
   "source": [
    "# Only 16 rows are affected where not placed is very less\n",
    "\n",
    "not_placed = not_placed[not_placed['college_name'].isin(Not_placed_colleges)]\n",
    "\n",
    "not_placed.head()"
   ]
  },
  {
   "cell_type": "code",
   "execution_count": 1248,
   "id": "0d465c5c",
   "metadata": {},
   "outputs": [
    {
     "name": "stdout",
     "output_type": "stream",
     "text": [
      "Null values of placed dataframe \n",
      "id                     0\n",
      "name                   0\n",
      "gender                 0\n",
      "age                    0\n",
      "degree                 0\n",
      "stream                 0\n",
      "college_name           0\n",
      "placement_status       0\n",
      "salary                 0\n",
      "gpa                    0\n",
      "years_of_experience    0\n",
      "location               0\n",
      "dtype: int64\n"
     ]
    }
   ],
   "source": [
    "print(f\"Null values of placed dataframe \\n{not_placed.isnull().sum()}\")"
   ]
  },
  {
   "cell_type": "code",
   "execution_count": 1249,
   "id": "0bf01dbd",
   "metadata": {},
   "outputs": [
    {
     "name": "stdout",
     "output_type": "stream",
     "text": [
      "Shape of not_placed dataframe (114, 12)\n",
      "Shape of placed dataframe (522, 12)\n"
     ]
    }
   ],
   "source": [
    "print(f\"Shape of not_placed dataframe {not_placed.shape}\")\n",
    "print(f\"Shape of placed dataframe {placed.shape}\")"
   ]
  },
  {
   "cell_type": "markdown",
   "id": "4f1b4cdf",
   "metadata": {},
   "source": [
    "Completed filtering from both datasets"
   ]
  },
  {
   "cell_type": "code",
   "execution_count": 1250,
   "id": "e00c18ca",
   "metadata": {},
   "outputs": [
    {
     "name": "stdout",
     "output_type": "stream",
     "text": [
      "Total number of rows after preprocessing: 636\n"
     ]
    }
   ],
   "source": [
    "# Combine total rows in both datasets\n",
    "\n",
    "print(f'Total number of rows after preprocessing: {placed.shape[0] + not_placed.shape[0]}')"
   ]
  },
  {
   "cell_type": "code",
   "execution_count": 1251,
   "id": "9c7aeb4a",
   "metadata": {},
   "outputs": [
    {
     "data": {
      "text/html": [
       "<div>\n",
       "<style scoped>\n",
       "    .dataframe tbody tr th:only-of-type {\n",
       "        vertical-align: middle;\n",
       "    }\n",
       "\n",
       "    .dataframe tbody tr th {\n",
       "        vertical-align: top;\n",
       "    }\n",
       "\n",
       "    .dataframe thead th {\n",
       "        text-align: right;\n",
       "    }\n",
       "</style>\n",
       "<table border=\"1\" class=\"dataframe\">\n",
       "  <thead>\n",
       "    <tr style=\"text-align: right;\">\n",
       "      <th></th>\n",
       "      <th>id</th>\n",
       "      <th>name</th>\n",
       "      <th>gender</th>\n",
       "      <th>age</th>\n",
       "      <th>degree</th>\n",
       "      <th>stream</th>\n",
       "      <th>college_name</th>\n",
       "      <th>placement_status</th>\n",
       "      <th>salary</th>\n",
       "      <th>gpa</th>\n",
       "      <th>years_of_experience</th>\n",
       "      <th>location</th>\n",
       "    </tr>\n",
       "  </thead>\n",
       "  <tbody>\n",
       "    <tr>\n",
       "      <th>0</th>\n",
       "      <td>13</td>\n",
       "      <td>Daniel Martinez</td>\n",
       "      <td>Male</td>\n",
       "      <td>26</td>\n",
       "      <td>Bachelor's</td>\n",
       "      <td>Information Technology</td>\n",
       "      <td>University of California--Berkeley</td>\n",
       "      <td>Placed</td>\n",
       "      <td>63000</td>\n",
       "      <td>3.7</td>\n",
       "      <td>2.0</td>\n",
       "      <td>Berkeley</td>\n",
       "    </tr>\n",
       "    <tr>\n",
       "      <th>1</th>\n",
       "      <td>14</td>\n",
       "      <td>Mia Gonzalez</td>\n",
       "      <td>Female</td>\n",
       "      <td>24</td>\n",
       "      <td>Bachelor's</td>\n",
       "      <td>Computer Science</td>\n",
       "      <td>University of Michigan--Ann Arbor</td>\n",
       "      <td>Placed</td>\n",
       "      <td>64000</td>\n",
       "      <td>3.6</td>\n",
       "      <td>1.0</td>\n",
       "      <td>Ann Arbor</td>\n",
       "    </tr>\n",
       "    <tr>\n",
       "      <th>2</th>\n",
       "      <td>15</td>\n",
       "      <td>Alexander Rodriguez</td>\n",
       "      <td>Male</td>\n",
       "      <td>23</td>\n",
       "      <td>Bachelor's</td>\n",
       "      <td>Electrical Engineering</td>\n",
       "      <td>University of California--Los Angeles</td>\n",
       "      <td>Placed</td>\n",
       "      <td>66000</td>\n",
       "      <td>3.8</td>\n",
       "      <td>3.0</td>\n",
       "      <td>Los Angeles</td>\n",
       "    </tr>\n",
       "    <tr>\n",
       "      <th>3</th>\n",
       "      <td>18</td>\n",
       "      <td>Olivia Moore</td>\n",
       "      <td>Female</td>\n",
       "      <td>24</td>\n",
       "      <td>Bachelor's</td>\n",
       "      <td>Electronics and Communication</td>\n",
       "      <td>University of Illinois--Urbana-Champaign</td>\n",
       "      <td>Placed</td>\n",
       "      <td>62000</td>\n",
       "      <td>3.8</td>\n",
       "      <td>1.0</td>\n",
       "      <td>Urbana-Champaign</td>\n",
       "    </tr>\n",
       "    <tr>\n",
       "      <th>4</th>\n",
       "      <td>20</td>\n",
       "      <td>Amelia Rivera</td>\n",
       "      <td>Female</td>\n",
       "      <td>25</td>\n",
       "      <td>Bachelor's</td>\n",
       "      <td>Computer Science</td>\n",
       "      <td>University of Washington</td>\n",
       "      <td>Placed</td>\n",
       "      <td>65000</td>\n",
       "      <td>3.6</td>\n",
       "      <td>1.0</td>\n",
       "      <td>Washington</td>\n",
       "    </tr>\n",
       "  </tbody>\n",
       "</table>\n",
       "</div>"
      ],
      "text/plain": [
       "   id                 name  gender  age      degree  \\\n",
       "0  13      Daniel Martinez    Male   26  Bachelor's   \n",
       "1  14         Mia Gonzalez  Female   24  Bachelor's   \n",
       "2  15  Alexander Rodriguez    Male   23  Bachelor's   \n",
       "3  18         Olivia Moore  Female   24  Bachelor's   \n",
       "4  20        Amelia Rivera  Female   25  Bachelor's   \n",
       "\n",
       "                          stream                              college_name  \\\n",
       "0         Information Technology        University of California--Berkeley   \n",
       "1               Computer Science         University of Michigan--Ann Arbor   \n",
       "2         Electrical Engineering     University of California--Los Angeles   \n",
       "3  Electronics and Communication  University of Illinois--Urbana-Champaign   \n",
       "4               Computer Science                  University of Washington   \n",
       "\n",
       "  placement_status  salary  gpa  years_of_experience          location  \n",
       "0           Placed   63000  3.7                  2.0          Berkeley  \n",
       "1           Placed   64000  3.6                  1.0         Ann Arbor  \n",
       "2           Placed   66000  3.8                  3.0       Los Angeles  \n",
       "3           Placed   62000  3.8                  1.0  Urbana-Champaign  \n",
       "4           Placed   65000  3.6                  1.0        Washington  "
      ]
     },
     "execution_count": 1251,
     "metadata": {},
     "output_type": "execute_result"
    }
   ],
   "source": [
    "# Combine both datasets\n",
    "\n",
    "updated_df = pd.concat([placed, not_placed], ignore_index=True, sort=False)\n",
    "\n",
    "updated_df.head()"
   ]
  },
  {
   "cell_type": "code",
   "execution_count": 1252,
   "id": "12805025",
   "metadata": {},
   "outputs": [
    {
     "data": {
      "text/html": [
       "<div>\n",
       "<style scoped>\n",
       "    .dataframe tbody tr th:only-of-type {\n",
       "        vertical-align: middle;\n",
       "    }\n",
       "\n",
       "    .dataframe tbody tr th {\n",
       "        vertical-align: top;\n",
       "    }\n",
       "\n",
       "    .dataframe thead th {\n",
       "        text-align: right;\n",
       "    }\n",
       "</style>\n",
       "<table border=\"1\" class=\"dataframe\">\n",
       "  <thead>\n",
       "    <tr style=\"text-align: right;\">\n",
       "      <th></th>\n",
       "      <th>id</th>\n",
       "      <th>name</th>\n",
       "      <th>gender</th>\n",
       "      <th>age</th>\n",
       "      <th>degree</th>\n",
       "      <th>stream</th>\n",
       "      <th>college_name</th>\n",
       "      <th>placement_status</th>\n",
       "      <th>salary</th>\n",
       "      <th>gpa</th>\n",
       "      <th>years_of_experience</th>\n",
       "      <th>location</th>\n",
       "    </tr>\n",
       "  </thead>\n",
       "  <tbody>\n",
       "    <tr>\n",
       "      <th>0</th>\n",
       "      <td>13</td>\n",
       "      <td>Daniel Martinez</td>\n",
       "      <td>Male</td>\n",
       "      <td>26</td>\n",
       "      <td>Bachelor's</td>\n",
       "      <td>Information Technology</td>\n",
       "      <td>University of California--Berkeley</td>\n",
       "      <td>Placed</td>\n",
       "      <td>63000</td>\n",
       "      <td>3.7</td>\n",
       "      <td>2.0</td>\n",
       "      <td>Berkeley</td>\n",
       "    </tr>\n",
       "    <tr>\n",
       "      <th>1</th>\n",
       "      <td>14</td>\n",
       "      <td>Mia Gonzalez</td>\n",
       "      <td>Female</td>\n",
       "      <td>24</td>\n",
       "      <td>Bachelor's</td>\n",
       "      <td>Computer Science</td>\n",
       "      <td>University of Michigan--Ann Arbor</td>\n",
       "      <td>Placed</td>\n",
       "      <td>64000</td>\n",
       "      <td>3.6</td>\n",
       "      <td>1.0</td>\n",
       "      <td>Ann Arbor</td>\n",
       "    </tr>\n",
       "    <tr>\n",
       "      <th>2</th>\n",
       "      <td>15</td>\n",
       "      <td>Alexander Rodriguez</td>\n",
       "      <td>Male</td>\n",
       "      <td>23</td>\n",
       "      <td>Bachelor's</td>\n",
       "      <td>Electrical Engineering</td>\n",
       "      <td>University of California--Los Angeles</td>\n",
       "      <td>Placed</td>\n",
       "      <td>66000</td>\n",
       "      <td>3.8</td>\n",
       "      <td>3.0</td>\n",
       "      <td>Los Angeles</td>\n",
       "    </tr>\n",
       "    <tr>\n",
       "      <th>3</th>\n",
       "      <td>18</td>\n",
       "      <td>Olivia Moore</td>\n",
       "      <td>Female</td>\n",
       "      <td>24</td>\n",
       "      <td>Bachelor's</td>\n",
       "      <td>Electronics and Communication</td>\n",
       "      <td>University of Illinois--Urbana-Champaign</td>\n",
       "      <td>Placed</td>\n",
       "      <td>62000</td>\n",
       "      <td>3.8</td>\n",
       "      <td>1.0</td>\n",
       "      <td>Urbana-Champaign</td>\n",
       "    </tr>\n",
       "    <tr>\n",
       "      <th>4</th>\n",
       "      <td>20</td>\n",
       "      <td>Amelia Rivera</td>\n",
       "      <td>Female</td>\n",
       "      <td>25</td>\n",
       "      <td>Bachelor's</td>\n",
       "      <td>Computer Science</td>\n",
       "      <td>University of Washington</td>\n",
       "      <td>Placed</td>\n",
       "      <td>65000</td>\n",
       "      <td>3.6</td>\n",
       "      <td>1.0</td>\n",
       "      <td>Washington</td>\n",
       "    </tr>\n",
       "  </tbody>\n",
       "</table>\n",
       "</div>"
      ],
      "text/plain": [
       "   id                 name  gender  age      degree  \\\n",
       "0  13      Daniel Martinez    Male   26  Bachelor's   \n",
       "1  14         Mia Gonzalez  Female   24  Bachelor's   \n",
       "2  15  Alexander Rodriguez    Male   23  Bachelor's   \n",
       "3  18         Olivia Moore  Female   24  Bachelor's   \n",
       "4  20        Amelia Rivera  Female   25  Bachelor's   \n",
       "\n",
       "                          stream                              college_name  \\\n",
       "0         Information Technology        University of California--Berkeley   \n",
       "1               Computer Science         University of Michigan--Ann Arbor   \n",
       "2         Electrical Engineering     University of California--Los Angeles   \n",
       "3  Electronics and Communication  University of Illinois--Urbana-Champaign   \n",
       "4               Computer Science                  University of Washington   \n",
       "\n",
       "  placement_status  salary  gpa  years_of_experience          location  \n",
       "0           Placed   63000  3.7                  2.0          Berkeley  \n",
       "1           Placed   64000  3.6                  1.0         Ann Arbor  \n",
       "2           Placed   66000  3.8                  3.0       Los Angeles  \n",
       "3           Placed   62000  3.8                  1.0  Urbana-Champaign  \n",
       "4           Placed   65000  3.6                  1.0        Washington  "
      ]
     },
     "execution_count": 1252,
     "metadata": {},
     "output_type": "execute_result"
    }
   ],
   "source": [
    "updated_df.head()"
   ]
  },
  {
   "cell_type": "code",
   "execution_count": 1253,
   "id": "484d1e79",
   "metadata": {},
   "outputs": [
    {
     "data": {
      "image/png": "[encoded data removed]",
      "text/plain": [
       "<Figure size 1000x600 with 1 Axes>"
      ]
     },
     "metadata": {},
     "output_type": "display_data"
    }
   ],
   "source": [
    "plt.figure(figsize=(10, 6))\n",
    "sns.histplot(x='gender', data=updated_df, hue='placement_status', palette={'Placed': 'red', 'Not Placed': 'blue'}, multiple='dodge')\n",
    "plt.xlabel(\"Gender\")\n",
    "plt.ylabel(\"Count\")\n",
    "plt.show()"
   ]
  },
  {
   "cell_type": "code",
   "execution_count": 1254,
   "id": "cadef848",
   "metadata": {},
   "outputs": [
    {
     "data": {
      "application/vnd.plotly.v1+json": {
       "config": {
        "plotlyServerURL": "https://plot.ly"
       },
       "data": [
        {
         "domain": {
          "x": [
           0,
           1
          ],
          "y": [
           0,
           1
          ]
         },
         "hovertemplate": "stream=%{label}<extra></extra>",
         "labels": [
          "Information Technology",
          "Computer Science",
          "Electrical Engineering",
          "Electronics and Communication",
          "Computer Science",
          "Electrical Engineering",
          "Electronics and Communication",
          "Information Technology",
          "Electrical Engineering",
          "Mechanical Engineering",
          "Electronics and Communication",
          "Information Technology",
          "Computer Science",
          "Electrical Engineering",
          "Information Technology",
          "Computer Science",
          "Mechanical Engineering",
          "Computer Science",
          "Electronics and Communication",
          "Information Technology",
          "Information Technology",
          "Computer Science",
          "Electrical Engineering",
          "Mechanical Engineering",
          "Electronics and Communication",
          "Information Technology",
          "Computer Science",
          "Electrical Engineering",
          "Information Technology",
          "Computer Science",
          "Mechanical Engineering",
          "Computer Science",
          "Electronics and Communication",
          "Information Technology",
          "Information Technology",
          "Computer Science",
          "Electrical Engineering",
          "Mechanical Engineering",
          "Electronics and Communication",
          "Information Technology",
          "Computer Science",
          "Electrical Engineering",
          "Information Technology",
          "Computer Science",
          "Mechanical Engineering",
          "Computer Science",
          "Electronics and Communication",
          "Information Technology",
          "Information Technology",
          "Computer Science",
          "Electrical Engineering",
          "Mechanical Engineering",
          "Electronics and Communication",
          "Information Technology",
          "Computer Science",
          "Electrical Engineering",
          "Information Technology",
          "Computer Science",
          "Mechanical Engineering",
          "Computer Science",
          "Electronics and Communication",
          "Information Technology",
          "Information Technology",
          "Computer Science",
          "Electrical Engineering",
          "Mechanical Engineering",
          "Electronics and Communication",
          "Information Technology",
          "Computer Science",
          "Electrical Engineering",
          "Information Technology",
          "Computer Science",
          "Mechanical Engineering",
          "Computer Science",
          "Electronics and Communication",
          "Information Technology",
          "Information Technology",
          "Computer Science",
          "Electrical Engineering",
          "Mechanical Engineering",
          "Electronics and Communication",
          "Information Technology",
          "Computer Science",
          "Electrical Engineering",
          "Information Technology",
          "Computer Science",
          "Mechanical Engineering",
          "Computer Science",
          "Electronics and Communication",
          "Information Technology",
          "Information Technology",
          "Computer Science",
          "Electrical Engineering",
          "Mechanical Engineering",
          "Electronics and Communication",
          "Information Technology",
          "Computer Science",
          "Electrical Engineering",
          "Information Technology",
          "Computer Science",
          "Mechanical Engineering",
          "Computer Science",
          "Electronics and Communication",
          "Information Technology",
          "Information Technology",
          "Computer Science",
          "Electrical Engineering",
          "Mechanical Engineering",
          "Electronics and Communication",
          "Information Technology",
          "Computer Science",
          "Electrical Engineering",
          "Information Technology",
          "Computer Science",
          "Electrical Engineering",
          "Mechanical Engineering",
          "Information Technology",
          "Electrical Engineering",
          "Mechanical Engineering",
          "Electronics and Communication",
          "Information Technology",
          "Computer Science",
          "Electrical Engineering",
          "Mechanical Engineering",
          "Information Technology",
          "Electrical Engineering",
          "Mechanical Engineering",
          "Electronics and Communication",
          "Information Technology",
          "Electrical Engineering",
          "Mechanical Engineering",
          "Electronics and Communication",
          "Electrical Engineering",
          "Mechanical Engineering",
          "Electronics and Communication",
          "Computer Science",
          "Electrical Engineering",
          "Mechanical Engineering",
          "Electronics and Communication",
          "Computer Science",
          "Mechanical Engineering",
          "Electronics and Communication",
          "Computer Science",
          "Information Technology",
          "Mechanical Engineering",
          "Electronics and Communication",
          "Computer Science",
          "Information Technology",
          "Electronics and Communication",
          "Computer Science",
          "Information Technology",
          "Electrical Engineering",
          "Electronics and Communication",
          "Computer Science",
          "Information Technology",
          "Electrical Engineering",
          "Computer Science",
          "Information Technology",
          "Electrical Engineering",
          "Mechanical Engineering",
          "Computer Science",
          "Information Technology",
          "Electrical Engineering",
          "Mechanical Engineering",
          "Information Technology",
          "Electrical Engineering",
          "Mechanical Engineering",
          "Electronics and Communication",
          "Information Technology",
          "Electrical Engineering",
          "Mechanical Engineering",
          "Electronics and Communication",
          "Electrical Engineering",
          "Mechanical Engineering",
          "Electronics and Communication",
          "Computer Science",
          "Information Technology",
          "Mechanical Engineering",
          "Electronics and Communication",
          "Information Technology",
          "Mechanical Engineering",
          "Computer Science",
          "Information Technology",
          "Mechanical Engineering",
          "Computer Science",
          "Electronics and Communication",
          "Mechanical Engineering",
          "Computer Science",
          "Electrical Engineering",
          "Information Technology",
          "Computer Science",
          "Electronics and Communication",
          "Mechanical Engineering",
          "Computer Science",
          "Electronics and Communication",
          "Computer Science",
          "Information Technology",
          "Mechanical Engineering",
          "Computer Science",
          "Electrical Engineering",
          "Computer Science",
          "Electronics and Communication",
          "Information Technology",
          "Mechanical Engineering",
          "Computer Science",
          "Electronics and Communication",
          "Electrical Engineering",
          "Information Technology",
          "Mechanical Engineering",
          "Computer Science",
          "Information Technology",
          "Computer Science",
          "Electronics and Communication",
          "Information Technology",
          "Computer Science",
          "Electronics and Communication",
          "Computer Science",
          "Electrical Engineering",
          "Information Technology",
          "Computer Science",
          "Electrical Engineering",
          "Information Technology",
          "Computer Science",
          "Electronics and Communication",
          "Mechanical Engineering",
          "Computer Science",
          "Electronics and Communication",
          "Computer Science",
          "Information Technology",
          "Mechanical Engineering",
          "Computer Science",
          "Electrical Engineering",
          "Information Technology",
          "Electronics and Communication",
          "Information Technology",
          "Mechanical Engineering",
          "Computer Science",
          "Computer Science",
          "Electrical Engineering",
          "Information Technology",
          "Mechanical Engineering",
          "Electrical Engineering",
          "Information Technology",
          "Computer Science",
          "Electronics and Communication",
          "Information Technology",
          "Computer Science",
          "Electronics and Communication",
          "Computer Science",
          "Electrical Engineering",
          "Mechanical Engineering",
          "Computer Science",
          "Electrical Engineering",
          "Information Technology",
          "Electronics and Communication",
          "Information Technology",
          "Mechanical Engineering",
          "Computer Science",
          "Electronics and Communication",
          "Computer Science",
          "Electrical Engineering",
          "Information Technology",
          "Mechanical Engineering",
          "Electrical Engineering",
          "Information Technology",
          "Computer Science",
          "Electronics and Communication",
          "Mechanical Engineering",
          "Computer Science",
          "Electronics and Communication",
          "Computer Science",
          "Electrical Engineering",
          "Mechanical Engineering",
          "Computer Science",
          "Electrical Engineering",
          "Information Technology",
          "Electronics and Communication",
          "Information Technology",
          "Mechanical Engineering",
          "Computer Science",
          "Computer Science",
          "Electronics and Communication",
          "Information Technology",
          "Mechanical Engineering",
          "Computer Science",
          "Information Technology",
          "Computer Science",
          "Electronics and Communication",
          "Information Technology",
          "Computer Science",
          "Electronics and Communication",
          "Computer Science",
          "Electrical Engineering",
          "Mechanical Engineering",
          "Computer Science",
          "Electrical Engineering",
          "Information Technology",
          "Computer Science",
          "Information Technology",
          "Mechanical Engineering",
          "Computer Science",
          "Electronics and Communication",
          "Electrical Engineering",
          "Information Technology",
          "Mechanical Engineering",
          "Computer Science",
          "Information Technology",
          "Computer Science",
          "Electronics and Communication",
          "Information Technology",
          "Mechanical Engineering",
          "Electronics and Communication",
          "Computer Science",
          "Electrical Engineering",
          "Information Technology",
          "Computer Science",
          "Electrical Engineering",
          "Information Technology",
          "Computer Science",
          "Information Technology",
          "Mechanical Engineering",
          "Computer Science",
          "Electronics and Communication",
          "Computer Science",
          "Information Technology",
          "Mechanical Engineering",
          "Computer Science",
          "Electrical Engineering",
          "Computer Science",
          "Electronics and Communication",
          "Information Technology",
          "Mechanical Engineering",
          "Electronics and Communication",
          "Computer Science",
          "Electrical Engineering",
          "Information Technology",
          "Mechanical Engineering",
          "Electrical Engineering",
          "Information Technology",
          "Computer Science",
          "Electronics and Communication",
          "Mechanical Engineering",
          "Computer Science",
          "Electronics and Communication",
          "Computer Science",
          "Information Technology",
          "Mechanical Engineering",
          "Computer Science",
          "Electrical Engineering",
          "Information Technology",
          "Electronics and Communication",
          "Information Technology",
          "Mechanical Engineering",
          "Computer Science",
          "Computer Science",
          "Electrical Engineering",
          "Information Technology",
          "Mechanical Engineering",
          "Electrical Engineering",
          "Information Technology",
          "Computer Science",
          "Electronics and Communication",
          "Information Technology",
          "Computer Science",
          "Electronics and Communication",
          "Computer Science",
          "Electrical Engineering",
          "Mechanical Engineering",
          "Computer Science",
          "Electrical Engineering",
          "Information Technology",
          "Electronics and Communication",
          "Information Technology",
          "Mechanical Engineering",
          "Computer Science",
          "Electronics and Communication",
          "Computer Science",
          "Electrical Engineering",
          "Information Technology",
          "Mechanical Engineering",
          "Electrical Engineering",
          "Information Technology",
          "Computer Science",
          "Electronics and Communication",
          "Mechanical Engineering",
          "Computer Science",
          "Electronics and Communication",
          "Computer Science",
          "Electrical Engineering",
          "Mechanical Engineering",
          "Computer Science",
          "Electrical Engineering",
          "Information Technology",
          "Electronics and Communication",
          "Information Technology",
          "Mechanical Engineering",
          "Electronics and Communication",
          "Computer Science",
          "Electrical Engineering",
          "Information Technology",
          "Mechanical Engineering",
          "Electrical Engineering",
          "Information Technology",
          "Computer Science",
          "Electronics and Communication",
          "Mechanical Engineering",
          "Computer Science",
          "Electronics and Communication",
          "Computer Science",
          "Information Technology",
          "Mechanical Engineering",
          "Computer Science",
          "Electrical Engineering",
          "Information Technology",
          "Electronics and Communication",
          "Information Technology",
          "Mechanical Engineering",
          "Computer Science",
          "Computer Science",
          "Electrical Engineering",
          "Information Technology",
          "Mechanical Engineering",
          "Electrical Engineering",
          "Information Technology",
          "Computer Science",
          "Electronics and Communication",
          "Information Technology",
          "Computer Science",
          "Electronics and Communication",
          "Computer Science",
          "Electrical Engineering",
          "Mechanical Engineering",
          "Computer Science",
          "Electrical Engineering",
          "Information Technology",
          "Electronics and Communication",
          "Information Technology",
          "Mechanical Engineering",
          "Computer Science",
          "Electronics and Communication",
          "Computer Science",
          "Electrical Engineering",
          "Information Technology",
          "Mechanical Engineering",
          "Electrical Engineering",
          "Information Technology",
          "Computer Science",
          "Electronics and Communication",
          "Mechanical Engineering",
          "Computer Science",
          "Electronics and Communication",
          "Computer Science",
          "Electrical Engineering",
          "Mechanical Engineering",
          "Computer Science",
          "Electrical Engineering",
          "Electronics and Communication",
          "Electrical Engineering",
          "Information Technology",
          "Mechanical Engineering",
          "Computer Science",
          "Information Technology",
          "Computer Science",
          "Electronics and Communication",
          "Information Technology",
          "Mechanical Engineering",
          "Electronics and Communication",
          "Computer Science",
          "Electrical Engineering",
          "Information Technology",
          "Computer Science",
          "Electrical Engineering",
          "Information Technology",
          "Computer Science",
          "Information Technology",
          "Mechanical Engineering",
          "Computer Science",
          "Electronics and Communication",
          "Computer Science",
          "Information Technology",
          "Mechanical Engineering",
          "Computer Science",
          "Electrical Engineering",
          "Computer Science",
          "Electronics and Communication",
          "Information Technology",
          "Mechanical Engineering",
          "Electronics and Communication",
          "Computer Science",
          "Electrical Engineering",
          "Information Technology",
          "Mechanical Engineering",
          "Electrical Engineering",
          "Information Technology",
          "Computer Science",
          "Electronics and Communication",
          "Mechanical Engineering",
          "Computer Science",
          "Electronics and Communication",
          "Computer Science",
          "Information Technology",
          "Mechanical Engineering",
          "Computer Science",
          "Electrical Engineering",
          "Information Technology",
          "Electronics and Communication",
          "Information Technology",
          "Mechanical Engineering",
          "Computer Science",
          "Computer Science",
          "Electrical Engineering",
          "Information Technology",
          "Mechanical Engineering",
          "Electrical Engineering",
          "Information Technology",
          "Computer Science",
          "Electronics and Communication",
          "Information Technology",
          "Computer Science",
          "Electronics and Communication",
          "Computer Science",
          "Electrical Engineering",
          "Computer Science",
          "Electrical Engineering",
          "Computer Science",
          "Computer Science",
          "Electrical Engineering",
          "Computer Science",
          "Computer Science",
          "Electrical Engineering",
          "Computer Science",
          "Computer Science",
          "Electrical Engineering",
          "Computer Science",
          "Computer Science",
          "Electrical Engineering",
          "Computer Science",
          "Computer Science",
          "Electrical Engineering",
          "Computer Science",
          "Computer Science",
          "Electrical Engineering",
          "Computer Science",
          "Computer Science",
          "Computer Science",
          "Computer Science",
          "Computer Science",
          "Computer Science",
          "Information Technology",
          "Information Technology",
          "Electrical Engineering",
          "Electrical Engineering",
          "Mechanical Engineering",
          "Mechanical Engineering",
          "Electronics and Communication",
          "Electronics and Communication",
          "Computer Science",
          "Computer Science",
          "Information Technology",
          "Computer Science",
          "Electrical Engineering",
          "Information Technology",
          "Information Technology",
          "Electrical Engineering",
          "Information Technology",
          "Computer Science",
          "Electrical Engineering",
          "Mechanical Engineering",
          "Mechanical Engineering",
          "Information Technology",
          "Electrical Engineering",
          "Computer Science",
          "Electronics and Communication",
          "Computer Science",
          "Mechanical Engineering",
          "Information Technology",
          "Computer Science",
          "Computer Science",
          "Information Technology",
          "Information Technology",
          "Computer Science",
          "Electrical Engineering",
          "Electrical Engineering",
          "Mechanical Engineering",
          "Information Technology",
          "Electronics and Communication",
          "Computer Science",
          "Electrical Engineering",
          "Computer Science",
          "Mechanical Engineering",
          "Electronics and Communication",
          "Electrical Engineering",
          "Information Technology",
          "Computer Science",
          "Computer Science",
          "Information Technology",
          "Electrical Engineering",
          "Computer Science",
          "Electronics and Communication",
          "Computer Science",
          "Mechanical Engineering",
          "Information Technology",
          "Computer Science",
          "Computer Science",
          "Information Technology",
          "Information Technology",
          "Computer Science",
          "Computer Science",
          "Computer Science",
          "Information Technology",
          "Electrical Engineering",
          "Computer Science",
          "Electronics and Communication",
          "Computer Science",
          "Mechanical Engineering",
          "Information Technology",
          "Computer Science",
          "Computer Science",
          "Information Technology",
          "Information Technology",
          "Computer Science",
          "Electrical Engineering",
          "Computer Science",
          "Mechanical Engineering",
          "Electronics and Communication",
          "Electrical Engineering",
          "Information Technology",
          "Computer Science",
          "Computer Science",
          "Information Technology",
          "Electrical Engineering",
          "Computer Science",
          "Electronics and Communication",
          "Computer Science",
          "Mechanical Engineering",
          "Information Technology"
         ],
         "legendgroup": "",
         "name": "",
         "opacity": 0.9,
         "showlegend": true,
         "textfont": {
          "color": "black",
          "family": "Arial",
          "size": 15
         },
         "textinfo": "percent",
         "type": "pie"
        }
       ],
       "layout": {
        "legend": {
         "tracegroupgap": 0
        },
        "template": {
         "data": {
          "bar": [
           {
            "error_x": {
             "color": "#2a3f5f"
            },
            "error_y": {
             "color": "#2a3f5f"
            },
            "marker": {
             "line": {
              "color": "#E5ECF6",
              "width": 0.5
             },
             "pattern": {
              "fillmode": "overlay",
              "size": 10,
              "solidity": 0.2
             }
            },
            "type": "bar"
           }
          ],
          "barpolar": [
           {
            "marker": {
             "line": {
              "color": "#E5ECF6",
              "width": 0.5
             },
             "pattern": {
              "fillmode": "overlay",
              "size": 10,
              "solidity": 0.2
             }
            },
            "type": "barpolar"
           }
          ],
          "carpet": [
           {
            "aaxis": {
             "endlinecolor": "#2a3f5f",
             "gridcolor": "white",
             "linecolor": "white",
             "minorgridcolor": "white",
             "startlinecolor": "#2a3f5f"
            },
            "baxis": {
             "endlinecolor": "#2a3f5f",
             "gridcolor": "white",
             "linecolor": "white",
             "minorgridcolor": "white",
             "startlinecolor": "#2a3f5f"
            },
            "type": "carpet"
           }
          ],
          "choropleth": [
           {
            "colorbar": {
             "outlinewidth": 0,
             "ticks": ""
            },
            "type": "choropleth"
           }
          ],
          "contour": [
           {
            "colorbar": {
             "outlinewidth": 0,
             "ticks": ""
            },
            "colorscale": [
             [
              0,
              "#0d0887"
             ],
             [
              0.1111111111111111,
              "#46039f"
             ],
             [
              0.2222222222222222,
              "#7201a8"
             ],
             [
              0.3333333333333333,
              "#9c179e"
             ],
             [
              0.4444444444444444,
              "#bd3786"
             ],
             [
              0.5555555555555556,
              "#d8576b"
             ],
             [
              0.6666666666666666,
              "#ed7953"
             ],
             [
              0.7777777777777778,
              "#fb9f3a"
             ],
             [
              0.8888888888888888,
              "#fdca26"
             ],
             [
              1,
              "#f0f921"
             ]
            ],
            "type": "contour"
           }
          ],
          "contourcarpet": [
           {
            "colorbar": {
             "outlinewidth": 0,
             "ticks": ""
            },
            "type": "contourcarpet"
           }
          ],
          "heatmap": [
           {
            "colorbar": {
             "outlinewidth": 0,
             "ticks": ""
            },
            "colorscale": [
             [
              0,
              "#0d0887"
             ],
             [
              0.1111111111111111,
              "#46039f"
             ],
             [
              0.2222222222222222,
              "#7201a8"
             ],
             [
              0.3333333333333333,
              "#9c179e"
             ],
             [
              0.4444444444444444,
              "#bd3786"
             ],
             [
              0.5555555555555556,
              "#d8576b"
             ],
             [
              0.6666666666666666,
              "#ed7953"
             ],
             [
              0.7777777777777778,
              "#fb9f3a"
             ],
             [
              0.8888888888888888,
              "#fdca26"
             ],
             [
              1,
              "#f0f921"
             ]
            ],
            "type": "heatmap"
           }
          ],
          "heatmapgl": [
           {
            "colorbar": {
             "outlinewidth": 0,
             "ticks": ""
            },
            "colorscale": [
             [
              0,
              "#0d0887"
             ],
             [
              0.1111111111111111,
              "#46039f"
             ],
             [
              0.2222222222222222,
              "#7201a8"
             ],
             [
              0.3333333333333333,
              "#9c179e"
             ],
             [
              0.4444444444444444,
              "#bd3786"
             ],
             [
              0.5555555555555556,
              "#d8576b"
             ],
             [
              0.6666666666666666,
              "#ed7953"
             ],
             [
              0.7777777777777778,
              "#fb9f3a"
             ],
             [
              0.8888888888888888,
              "#fdca26"
             ],
             [
              1,
              "#f0f921"
             ]
            ],
            "type": "heatmapgl"
           }
          ],
          "histogram": [
           {
            "marker": {
             "pattern": {
              "fillmode": "overlay",
              "size": 10,
              "solidity": 0.2
             }
            },
            "type": "histogram"
           }
          ],
          "histogram2d": [
           {
            "colorbar": {
             "outlinewidth": 0,
             "ticks": ""
            },
            "colorscale": [
             [
              0,
              "#0d0887"
             ],
             [
              0.1111111111111111,
              "#46039f"
             ],
             [
              0.2222222222222222,
              "#7201a8"
             ],
             [
              0.3333333333333333,
              "#9c179e"
             ],
             [
              0.4444444444444444,
              "#bd3786"
             ],
             [
              0.5555555555555556,
              "#d8576b"
             ],
             [
              0.6666666666666666,
              "#ed7953"
             ],
             [
              0.7777777777777778,
              "#fb9f3a"
             ],
             [
              0.8888888888888888,
              "#fdca26"
             ],
             [
              1,
              "#f0f921"
             ]
            ],
            "type": "histogram2d"
           }
          ],
          "histogram2dcontour": [
           {
            "colorbar": {
             "outlinewidth": 0,
             "ticks": ""
            },
            "colorscale": [
             [
              0,
              "#0d0887"
             ],
             [
              0.1111111111111111,
              "#46039f"
             ],
             [
              0.2222222222222222,
              "#7201a8"
             ],
             [
              0.3333333333333333,
              "#9c179e"
             ],
             [
              0.4444444444444444,
              "#bd3786"
             ],
             [
              0.5555555555555556,
              "#d8576b"
             ],
             [
              0.6666666666666666,
              "#ed7953"
             ],
             [
              0.7777777777777778,
              "#fb9f3a"
             ],
             [
              0.8888888888888888,
              "#fdca26"
             ],
             [
              1,
              "#f0f921"
             ]
            ],
            "type": "histogram2dcontour"
           }
          ],
          "mesh3d": [
           {
            "colorbar": {
             "outlinewidth": 0,
             "ticks": ""
            },
            "type": "mesh3d"
           }
          ],
          "parcoords": [
           {
            "line": {
             "colorbar": {
              "outlinewidth": 0,
              "ticks": ""
             }
            },
            "type": "parcoords"
           }
          ],
          "pie": [
           {
            "automargin": true,
            "type": "pie"
           }
          ],
          "scatter": [
           {
            "fillpattern": {
             "fillmode": "overlay",
             "size": 10,
             "solidity": 0.2
            },
            "type": "scatter"
           }
          ],
          "scatter3d": [
           {
            "line": {
             "colorbar": {
              "outlinewidth": 0,
              "ticks": ""
             }
            },
            "marker": {
             "colorbar": {
              "outlinewidth": 0,
              "ticks": ""
             }
            },
            "type": "scatter3d"
           }
          ],
          "scattercarpet": [
           {
            "marker": {
             "colorbar": {
              "outlinewidth": 0,
              "ticks": ""
             }
            },
            "type": "scattercarpet"
           }
          ],
          "scattergeo": [
           {
            "marker": {
             "colorbar": {
              "outlinewidth": 0,
              "ticks": ""
             }
            },
            "type": "scattergeo"
           }
          ],
          "scattergl": [
           {
            "marker": {
             "colorbar": {
              "outlinewidth": 0,
              "ticks": ""
             }
            },
            "type": "scattergl"
           }
          ],
          "scattermapbox": [
           {
            "marker": {
             "colorbar": {
              "outlinewidth": 0,
              "ticks": ""
             }
            },
            "type": "scattermapbox"
           }
          ],
          "scatterpolar": [
           {
            "marker": {
             "colorbar": {
              "outlinewidth": 0,
              "ticks": ""
             }
            },
            "type": "scatterpolar"
           }
          ],
          "scatterpolargl": [
           {
            "marker": {
             "colorbar": {
              "outlinewidth": 0,
              "ticks": ""
             }
            },
            "type": "scatterpolargl"
           }
          ],
          "scatterternary": [
           {
            "marker": {
             "colorbar": {
              "outlinewidth": 0,
              "ticks": ""
             }
            },
            "type": "scatterternary"
           }
          ],
          "surface": [
           {
            "colorbar": {
             "outlinewidth": 0,
             "ticks": ""
            },
            "colorscale": [
             [
              0,
              "#0d0887"
             ],
             [
              0.1111111111111111,
              "#46039f"
             ],
             [
              0.2222222222222222,
              "#7201a8"
             ],
             [
              0.3333333333333333,
              "#9c179e"
             ],
             [
              0.4444444444444444,
              "#bd3786"
             ],
             [
              0.5555555555555556,
              "#d8576b"
             ],
             [
              0.6666666666666666,
              "#ed7953"
             ],
             [
              0.7777777777777778,
              "#fb9f3a"
             ],
             [
              0.8888888888888888,
              "#fdca26"
             ],
             [
              1,
              "#f0f921"
             ]
            ],
            "type": "surface"
           }
          ],
          "table": [
           {
            "cells": {
             "fill": {
              "color": "#EBF0F8"
             },
             "line": {
              "color": "white"
             }
            },
            "header": {
             "fill": {
              "color": "#C8D4E3"
             },
             "line": {
              "color": "white"
             }
            },
            "type": "table"
           }
          ]
         },
         "layout": {
          "annotationdefaults": {
           "arrowcolor": "#2a3f5f",
           "arrowhead": 0,
           "arrowwidth": 1
          },
          "autotypenumbers": "strict",
          "coloraxis": {
           "colorbar": {
            "outlinewidth": 0,
            "ticks": ""
           }
          },
          "colorscale": {
           "diverging": [
            [
             0,
             "#8e0152"
            ],
            [
             0.1,
             "#c51b7d"
            ],
            [
             0.2,
             "#de77ae"
            ],
            [
             0.3,
             "#f1b6da"
            ],
            [
             0.4,
             "#fde0ef"
            ],
            [
             0.5,
             "#f7f7f7"
            ],
            [
             0.6,
             "#e6f5d0"
            ],
            [
             0.7,
             "#b8e186"
            ],
            [
             0.8,
             "#7fbc41"
            ],
            [
             0.9,
             "#4d9221"
            ],
            [
             1,
             "#276419"
            ]
           ],
           "sequential": [
            [
             0,
             "#0d0887"
            ],
            [
             0.1111111111111111,
             "#46039f"
            ],
            [
             0.2222222222222222,
             "#7201a8"
            ],
            [
             0.3333333333333333,
             "#9c179e"
            ],
            [
             0.4444444444444444,
             "#bd3786"
            ],
            [
             0.5555555555555556,
             "#d8576b"
            ],
            [
             0.6666666666666666,
             "#ed7953"
            ],
            [
             0.7777777777777778,
             "#fb9f3a"
            ],
            [
             0.8888888888888888,
             "#fdca26"
            ],
            [
             1,
             "#f0f921"
            ]
           ],
           "sequentialminus": [
            [
             0,
             "#0d0887"
            ],
            [
             0.1111111111111111,
             "#46039f"
            ],
            [
             0.2222222222222222,
             "#7201a8"
            ],
            [
             0.3333333333333333,
             "#9c179e"
            ],
            [
             0.4444444444444444,
             "#bd3786"
            ],
            [
             0.5555555555555556,
             "#d8576b"
            ],
            [
             0.6666666666666666,
             "#ed7953"
            ],
            [
             0.7777777777777778,
             "#fb9f3a"
            ],
            [
             0.8888888888888888,
             "#fdca26"
            ],
            [
             1,
             "#f0f921"
            ]
           ]
          },
          "colorway": [
           "#636efa",
           "#EF553B",
           "#00cc96",
           "#ab63fa",
           "#FFA15A",
           "#19d3f3",
           "#FF6692",
           "#B6E880",
           "#FF97FF",
           "#FECB52"
          ],
          "font": {
           "color": "#2a3f5f"
          },
          "geo": {
           "bgcolor": "white",
           "lakecolor": "white",
           "landcolor": "#E5ECF6",
           "showlakes": true,
           "showland": true,
           "subunitcolor": "white"
          },
          "hoverlabel": {
           "align": "left"
          },
          "hovermode": "closest",
          "mapbox": {
           "style": "light"
          },
          "paper_bgcolor": "white",
          "plot_bgcolor": "#E5ECF6",
          "polar": {
           "angularaxis": {
            "gridcolor": "white",
            "linecolor": "white",
            "ticks": ""
           },
           "bgcolor": "#E5ECF6",
           "radialaxis": {
            "gridcolor": "white",
            "linecolor": "white",
            "ticks": ""
           }
          },
          "scene": {
           "xaxis": {
            "backgroundcolor": "#E5ECF6",
            "gridcolor": "white",
            "gridwidth": 2,
            "linecolor": "white",
            "showbackground": true,
            "ticks": "",
            "zerolinecolor": "white"
           },
           "yaxis": {
            "backgroundcolor": "#E5ECF6",
            "gridcolor": "white",
            "gridwidth": 2,
            "linecolor": "white",
            "showbackground": true,
            "ticks": "",
            "zerolinecolor": "white"
           },
           "zaxis": {
            "backgroundcolor": "#E5ECF6",
            "gridcolor": "white",
            "gridwidth": 2,
            "linecolor": "white",
            "showbackground": true,
            "ticks": "",
            "zerolinecolor": "white"
           }
          },
          "shapedefaults": {
           "line": {
            "color": "#2a3f5f"
           }
          },
          "ternary": {
           "aaxis": {
            "gridcolor": "white",
            "linecolor": "white",
            "ticks": ""
           },
           "baxis": {
            "gridcolor": "white",
            "linecolor": "white",
            "ticks": ""
           },
           "bgcolor": "#E5ECF6",
           "caxis": {
            "gridcolor": "white",
            "linecolor": "white",
            "ticks": ""
           }
          },
          "title": {
           "x": 0.05
          },
          "xaxis": {
           "automargin": true,
           "gridcolor": "white",
           "linecolor": "white",
           "ticks": "",
           "title": {
            "standoff": 15
           },
           "zerolinecolor": "white",
           "zerolinewidth": 2
          },
          "yaxis": {
           "automargin": true,
           "gridcolor": "white",
           "linecolor": "white",
           "ticks": "",
           "title": {
            "standoff": 15
           },
           "zerolinecolor": "white",
           "zerolinewidth": 2
          }
         }
        },
        "title": {
         "text": "Stream count of all students in dataset"
        }
       }
      }
     },
     "metadata": {},
     "output_type": "display_data"
    }
   ],
   "source": [
    "fig = px.pie(data_frame=updated_df, names='stream', opacity=0.9, title='Stream count of all students in dataset')\n",
    "fig.update_traces(\n",
    "    textinfo='percent',\n",
    "    textfont=dict(size=15, color='black', family='Arial'),\n",
    ")\n",
    "\n",
    "fig.show()"
   ]
  },
  {
   "cell_type": "code",
   "execution_count": 1255,
   "id": "27540603",
   "metadata": {},
   "outputs": [
    {
     "data": {
      "image/png": "[encoded data removed]",
      "text/plain": [
       "<Figure size 1000x600 with 1 Axes>"
      ]
     },
     "metadata": {},
     "output_type": "display_data"
    }
   ],
   "source": [
    "plt.figure(figsize=(10, 6))\n",
    "ax = sns.histplot(\n",
    "    x='stream',\n",
    "    data=updated_df,\n",
    "    hue='placement_status',\n",
    "    multiple='dodge',\n",
    "    shrink=0.8\n",
    ")\n",
    "\n",
    "plt.xticks(rotation=90)\n",
    "plt.xlabel(\"Stream\")\n",
    "plt.ylabel(\"Count\")\n",
    "\n",
    "\n",
    "for p in ax.patches:\n",
    "    height = p.get_height()\n",
    "    if height > 0:  \n",
    "        ax.text(\n",
    "            p.get_x() + p.get_width() / 2,  \n",
    "            height,                         \n",
    "            int(height),                    \n",
    "            ha='center', va='bottom', fontsize=10\n",
    "        )\n",
    "\n",
    "plt.show()\n"
   ]
  },
  {
   "cell_type": "code",
   "execution_count": 1256,
   "id": "c98bc58a",
   "metadata": {},
   "outputs": [
    {
     "data": {
      "image/png": "[encoded data removed]",
      "text/plain": [
       "<Figure size 1000x600 with 1 Axes>"
      ]
     },
     "metadata": {},
     "output_type": "display_data"
    }
   ],
   "source": [
    "plt.figure(figsize= (10, 6))\n",
    "sns.histplot(x='location', data=updated_df, hue='placement_status', multiple='dodge', shrink=0.8)\n",
    "plt.xticks(rotation=90)\n",
    "plt.xlabel(\"Location\")\n",
    "plt.ylabel(\"Count\")\n",
    "plt.show()"
   ]
  },
  {
   "cell_type": "code",
   "execution_count": 1257,
   "id": "9c80a26c",
   "metadata": {},
   "outputs": [
    {
     "data": {
      "text/html": [
       "<div>\n",
       "<style scoped>\n",
       "    .dataframe tbody tr th:only-of-type {\n",
       "        vertical-align: middle;\n",
       "    }\n",
       "\n",
       "    .dataframe tbody tr th {\n",
       "        vertical-align: top;\n",
       "    }\n",
       "\n",
       "    .dataframe thead th {\n",
       "        text-align: right;\n",
       "    }\n",
       "</style>\n",
       "<table border=\"1\" class=\"dataframe\">\n",
       "  <thead>\n",
       "    <tr style=\"text-align: right;\">\n",
       "      <th></th>\n",
       "      <th>id</th>\n",
       "      <th>name</th>\n",
       "      <th>gender</th>\n",
       "      <th>age</th>\n",
       "      <th>degree</th>\n",
       "      <th>stream</th>\n",
       "      <th>college_name</th>\n",
       "      <th>placement_status</th>\n",
       "      <th>salary</th>\n",
       "      <th>gpa</th>\n",
       "      <th>years_of_experience</th>\n",
       "      <th>location</th>\n",
       "    </tr>\n",
       "  </thead>\n",
       "  <tbody>\n",
       "    <tr>\n",
       "      <th>0</th>\n",
       "      <td>13</td>\n",
       "      <td>Daniel Martinez</td>\n",
       "      <td>Male</td>\n",
       "      <td>26</td>\n",
       "      <td>Bachelor's</td>\n",
       "      <td>Information Technology</td>\n",
       "      <td>University of California--Berkeley</td>\n",
       "      <td>Placed</td>\n",
       "      <td>63000</td>\n",
       "      <td>3.7</td>\n",
       "      <td>2.0</td>\n",
       "      <td>Berkeley</td>\n",
       "    </tr>\n",
       "    <tr>\n",
       "      <th>1</th>\n",
       "      <td>14</td>\n",
       "      <td>Mia Gonzalez</td>\n",
       "      <td>Female</td>\n",
       "      <td>24</td>\n",
       "      <td>Bachelor's</td>\n",
       "      <td>Computer Science</td>\n",
       "      <td>University of Michigan--Ann Arbor</td>\n",
       "      <td>Placed</td>\n",
       "      <td>64000</td>\n",
       "      <td>3.6</td>\n",
       "      <td>1.0</td>\n",
       "      <td>Ann Arbor</td>\n",
       "    </tr>\n",
       "    <tr>\n",
       "      <th>2</th>\n",
       "      <td>15</td>\n",
       "      <td>Alexander Rodriguez</td>\n",
       "      <td>Male</td>\n",
       "      <td>23</td>\n",
       "      <td>Bachelor's</td>\n",
       "      <td>Electrical Engineering</td>\n",
       "      <td>University of California--Los Angeles</td>\n",
       "      <td>Placed</td>\n",
       "      <td>66000</td>\n",
       "      <td>3.8</td>\n",
       "      <td>3.0</td>\n",
       "      <td>Los Angeles</td>\n",
       "    </tr>\n",
       "    <tr>\n",
       "      <th>3</th>\n",
       "      <td>18</td>\n",
       "      <td>Olivia Moore</td>\n",
       "      <td>Female</td>\n",
       "      <td>24</td>\n",
       "      <td>Bachelor's</td>\n",
       "      <td>Electronics and Communication</td>\n",
       "      <td>University of Illinois--Urbana-Champaign</td>\n",
       "      <td>Placed</td>\n",
       "      <td>62000</td>\n",
       "      <td>3.8</td>\n",
       "      <td>1.0</td>\n",
       "      <td>Urbana-Champaign</td>\n",
       "    </tr>\n",
       "    <tr>\n",
       "      <th>4</th>\n",
       "      <td>20</td>\n",
       "      <td>Amelia Rivera</td>\n",
       "      <td>Female</td>\n",
       "      <td>25</td>\n",
       "      <td>Bachelor's</td>\n",
       "      <td>Computer Science</td>\n",
       "      <td>University of Washington</td>\n",
       "      <td>Placed</td>\n",
       "      <td>65000</td>\n",
       "      <td>3.6</td>\n",
       "      <td>1.0</td>\n",
       "      <td>Washington</td>\n",
       "    </tr>\n",
       "  </tbody>\n",
       "</table>\n",
       "</div>"
      ],
      "text/plain": [
       "   id                 name  gender  age      degree  \\\n",
       "0  13      Daniel Martinez    Male   26  Bachelor's   \n",
       "1  14         Mia Gonzalez  Female   24  Bachelor's   \n",
       "2  15  Alexander Rodriguez    Male   23  Bachelor's   \n",
       "3  18         Olivia Moore  Female   24  Bachelor's   \n",
       "4  20        Amelia Rivera  Female   25  Bachelor's   \n",
       "\n",
       "                          stream                              college_name  \\\n",
       "0         Information Technology        University of California--Berkeley   \n",
       "1               Computer Science         University of Michigan--Ann Arbor   \n",
       "2         Electrical Engineering     University of California--Los Angeles   \n",
       "3  Electronics and Communication  University of Illinois--Urbana-Champaign   \n",
       "4               Computer Science                  University of Washington   \n",
       "\n",
       "  placement_status  salary  gpa  years_of_experience          location  \n",
       "0           Placed   63000  3.7                  2.0          Berkeley  \n",
       "1           Placed   64000  3.6                  1.0         Ann Arbor  \n",
       "2           Placed   66000  3.8                  3.0       Los Angeles  \n",
       "3           Placed   62000  3.8                  1.0  Urbana-Champaign  \n",
       "4           Placed   65000  3.6                  1.0        Washington  "
      ]
     },
     "execution_count": 1257,
     "metadata": {},
     "output_type": "execute_result"
    }
   ],
   "source": [
    "updated_df.head()"
   ]
  },
  {
   "cell_type": "code",
   "execution_count": 1258,
   "id": "ea2690b3",
   "metadata": {},
   "outputs": [
    {
     "data": {
      "text/html": [
       "<div>\n",
       "<style scoped>\n",
       "    .dataframe tbody tr th:only-of-type {\n",
       "        vertical-align: middle;\n",
       "    }\n",
       "\n",
       "    .dataframe tbody tr th {\n",
       "        vertical-align: top;\n",
       "    }\n",
       "\n",
       "    .dataframe thead th {\n",
       "        text-align: right;\n",
       "    }\n",
       "</style>\n",
       "<table border=\"1\" class=\"dataframe\">\n",
       "  <thead>\n",
       "    <tr style=\"text-align: right;\">\n",
       "      <th></th>\n",
       "      <th>id</th>\n",
       "      <th>name</th>\n",
       "      <th>gender</th>\n",
       "      <th>age</th>\n",
       "      <th>degree</th>\n",
       "      <th>stream</th>\n",
       "      <th>college_name</th>\n",
       "      <th>placement_status</th>\n",
       "      <th>salary</th>\n",
       "      <th>gpa</th>\n",
       "      <th>years_of_experience</th>\n",
       "      <th>location</th>\n",
       "    </tr>\n",
       "  </thead>\n",
       "  <tbody>\n",
       "    <tr>\n",
       "      <th>395</th>\n",
       "      <td>545</td>\n",
       "      <td>Sophia Johnson</td>\n",
       "      <td>Female</td>\n",
       "      <td>24</td>\n",
       "      <td>Bachelor's</td>\n",
       "      <td>Mechanical Engineering</td>\n",
       "      <td>University of California--Santa Cruz</td>\n",
       "      <td>Placed</td>\n",
       "      <td>60000</td>\n",
       "      <td>3.7</td>\n",
       "      <td>2.177396</td>\n",
       "      <td>Santa Cruz</td>\n",
       "    </tr>\n",
       "  </tbody>\n",
       "</table>\n",
       "</div>"
      ],
      "text/plain": [
       "      id            name  gender  age      degree                  stream  \\\n",
       "395  545  Sophia Johnson  Female   24  Bachelor's  Mechanical Engineering   \n",
       "\n",
       "                             college_name placement_status  salary  gpa  \\\n",
       "395  University of California--Santa Cruz           Placed   60000  3.7   \n",
       "\n",
       "     years_of_experience    location  \n",
       "395             2.177396  Santa Cruz  "
      ]
     },
     "execution_count": 1258,
     "metadata": {},
     "output_type": "execute_result"
    }
   ],
   "source": [
    "updated_df[updated_df['years_of_experience'] == updated_df['years_of_experience'].unique()[3]]"
   ]
  },
  {
   "cell_type": "code",
   "execution_count": 1259,
   "id": "5618d29a",
   "metadata": {},
   "outputs": [
    {
     "data": {
      "text/html": [
       "<div>\n",
       "<style scoped>\n",
       "    .dataframe tbody tr th:only-of-type {\n",
       "        vertical-align: middle;\n",
       "    }\n",
       "\n",
       "    .dataframe tbody tr th {\n",
       "        vertical-align: top;\n",
       "    }\n",
       "\n",
       "    .dataframe thead th {\n",
       "        text-align: right;\n",
       "    }\n",
       "</style>\n",
       "<table border=\"1\" class=\"dataframe\">\n",
       "  <thead>\n",
       "    <tr style=\"text-align: right;\">\n",
       "      <th></th>\n",
       "      <th>id</th>\n",
       "      <th>name</th>\n",
       "      <th>gender</th>\n",
       "      <th>age</th>\n",
       "      <th>degree</th>\n",
       "      <th>stream</th>\n",
       "      <th>college_name</th>\n",
       "      <th>placement_status</th>\n",
       "      <th>salary</th>\n",
       "      <th>gpa</th>\n",
       "      <th>years_of_experience</th>\n",
       "      <th>location</th>\n",
       "    </tr>\n",
       "  </thead>\n",
       "  <tbody>\n",
       "    <tr>\n",
       "      <th>0</th>\n",
       "      <td>13</td>\n",
       "      <td>Daniel Martinez</td>\n",
       "      <td>Male</td>\n",
       "      <td>26</td>\n",
       "      <td>Bachelor's</td>\n",
       "      <td>Information Technology</td>\n",
       "      <td>University of California--Berkeley</td>\n",
       "      <td>Placed</td>\n",
       "      <td>63000</td>\n",
       "      <td>3.7</td>\n",
       "      <td>2.0</td>\n",
       "      <td>Berkeley</td>\n",
       "    </tr>\n",
       "    <tr>\n",
       "      <th>1</th>\n",
       "      <td>14</td>\n",
       "      <td>Mia Gonzalez</td>\n",
       "      <td>Female</td>\n",
       "      <td>24</td>\n",
       "      <td>Bachelor's</td>\n",
       "      <td>Computer Science</td>\n",
       "      <td>University of Michigan--Ann Arbor</td>\n",
       "      <td>Placed</td>\n",
       "      <td>64000</td>\n",
       "      <td>3.6</td>\n",
       "      <td>1.0</td>\n",
       "      <td>Ann Arbor</td>\n",
       "    </tr>\n",
       "    <tr>\n",
       "      <th>2</th>\n",
       "      <td>15</td>\n",
       "      <td>Alexander Rodriguez</td>\n",
       "      <td>Male</td>\n",
       "      <td>23</td>\n",
       "      <td>Bachelor's</td>\n",
       "      <td>Electrical Engineering</td>\n",
       "      <td>University of California--Los Angeles</td>\n",
       "      <td>Placed</td>\n",
       "      <td>66000</td>\n",
       "      <td>3.8</td>\n",
       "      <td>3.0</td>\n",
       "      <td>Los Angeles</td>\n",
       "    </tr>\n",
       "    <tr>\n",
       "      <th>3</th>\n",
       "      <td>18</td>\n",
       "      <td>Olivia Moore</td>\n",
       "      <td>Female</td>\n",
       "      <td>24</td>\n",
       "      <td>Bachelor's</td>\n",
       "      <td>Electronics and Communication</td>\n",
       "      <td>University of Illinois--Urbana-Champaign</td>\n",
       "      <td>Placed</td>\n",
       "      <td>62000</td>\n",
       "      <td>3.8</td>\n",
       "      <td>1.0</td>\n",
       "      <td>Urbana-Champaign</td>\n",
       "    </tr>\n",
       "    <tr>\n",
       "      <th>4</th>\n",
       "      <td>20</td>\n",
       "      <td>Amelia Rivera</td>\n",
       "      <td>Female</td>\n",
       "      <td>25</td>\n",
       "      <td>Bachelor's</td>\n",
       "      <td>Computer Science</td>\n",
       "      <td>University of Washington</td>\n",
       "      <td>Placed</td>\n",
       "      <td>65000</td>\n",
       "      <td>3.6</td>\n",
       "      <td>1.0</td>\n",
       "      <td>Washington</td>\n",
       "    </tr>\n",
       "  </tbody>\n",
       "</table>\n",
       "</div>"
      ],
      "text/plain": [
       "   id                 name  gender  age      degree  \\\n",
       "0  13      Daniel Martinez    Male   26  Bachelor's   \n",
       "1  14         Mia Gonzalez  Female   24  Bachelor's   \n",
       "2  15  Alexander Rodriguez    Male   23  Bachelor's   \n",
       "3  18         Olivia Moore  Female   24  Bachelor's   \n",
       "4  20        Amelia Rivera  Female   25  Bachelor's   \n",
       "\n",
       "                          stream                              college_name  \\\n",
       "0         Information Technology        University of California--Berkeley   \n",
       "1               Computer Science         University of Michigan--Ann Arbor   \n",
       "2         Electrical Engineering     University of California--Los Angeles   \n",
       "3  Electronics and Communication  University of Illinois--Urbana-Champaign   \n",
       "4               Computer Science                  University of Washington   \n",
       "\n",
       "  placement_status  salary  gpa  years_of_experience          location  \n",
       "0           Placed   63000  3.7                  2.0          Berkeley  \n",
       "1           Placed   64000  3.6                  1.0         Ann Arbor  \n",
       "2           Placed   66000  3.8                  3.0       Los Angeles  \n",
       "3           Placed   62000  3.8                  1.0  Urbana-Champaign  \n",
       "4           Placed   65000  3.6                  1.0        Washington  "
      ]
     },
     "execution_count": 1259,
     "metadata": {},
     "output_type": "execute_result"
    }
   ],
   "source": [
    "updated_df.head()"
   ]
  },
  {
   "cell_type": "code",
   "execution_count": 1260,
   "id": "4da73304",
   "metadata": {},
   "outputs": [
    {
     "name": "stdout",
     "output_type": "stream",
     "text": [
      "Unique values for gender: ['Male', 'Female']\n",
      "\n",
      "Unique values for age: [26, 24, 23, 25]\n",
      "\n",
      "Unique values for degree: [\"Bachelor's\"]\n",
      "\n",
      "Unique values for college_name: ['University of California--Berkeley', 'University of Michigan--Ann Arbor', 'University of California--Los Angeles', 'University of Illinois--Urbana-Champaign', 'University of Washington', 'University of Maryland--College Park', 'University of Colorado--Boulder', 'University of Rochester', 'University of California--Santa Cruz', 'University of Connecticut', 'University of Delaware', 'University of California--San Francisco', 'University of Texas--Dallas', 'University of Virginia', 'University of California--Riverside', 'University of Pennsylvania', 'University of North Carolina--Chapel Hill']\n",
      "\n",
      "Unique values for stream: ['Information Technology', 'Computer Science', 'Electrical Engineering', 'Electronics and Communication', 'Mechanical Engineering']\n",
      "\n",
      "Unique values for salary: [63000, 64000, 66000, 62000, 65000, 61000, 60000, 67000, 68000, 0]\n",
      "\n",
      "Unique values for gpa: [3.7, 3.6, 3.8, 3.9, 3.5]\n",
      "\n",
      "Unique values for placement_status: ['Placed', 'Not Placed']\n",
      "\n"
     ]
    }
   ],
   "source": [
    "# gender, age, stream, college_name, placement_status, salary, gpa, years_of_experience\n",
    "\n",
    "lst = ['gender', 'age', 'degree', 'college_name', 'stream', 'salary','gpa', 'placement_status']\n",
    "\n",
    "for i in lst:\n",
    "    print(f\"Unique values for {i}: {list(updated_df[i].unique())}\\n\")"
   ]
  },
  {
   "cell_type": "code",
   "execution_count": 1261,
   "id": "8caf93d6",
   "metadata": {},
   "outputs": [
    {
     "data": {
      "text/html": [
       "<div>\n",
       "<style scoped>\n",
       "    .dataframe tbody tr th:only-of-type {\n",
       "        vertical-align: middle;\n",
       "    }\n",
       "\n",
       "    .dataframe tbody tr th {\n",
       "        vertical-align: top;\n",
       "    }\n",
       "\n",
       "    .dataframe thead th {\n",
       "        text-align: right;\n",
       "    }\n",
       "</style>\n",
       "<table border=\"1\" class=\"dataframe\">\n",
       "  <thead>\n",
       "    <tr style=\"text-align: right;\">\n",
       "      <th></th>\n",
       "      <th>id</th>\n",
       "      <th>gender</th>\n",
       "      <th>age</th>\n",
       "      <th>degree</th>\n",
       "      <th>stream</th>\n",
       "      <th>college_name</th>\n",
       "      <th>placement_status</th>\n",
       "      <th>salary</th>\n",
       "      <th>gpa</th>\n",
       "      <th>years_of_experience</th>\n",
       "    </tr>\n",
       "  </thead>\n",
       "  <tbody>\n",
       "    <tr>\n",
       "      <th>0</th>\n",
       "      <td>13</td>\n",
       "      <td>Male</td>\n",
       "      <td>26</td>\n",
       "      <td>Bachelor's</td>\n",
       "      <td>Information Technology</td>\n",
       "      <td>University of California--Berkeley</td>\n",
       "      <td>Placed</td>\n",
       "      <td>63000</td>\n",
       "      <td>3.7</td>\n",
       "      <td>2.0</td>\n",
       "    </tr>\n",
       "    <tr>\n",
       "      <th>1</th>\n",
       "      <td>14</td>\n",
       "      <td>Female</td>\n",
       "      <td>24</td>\n",
       "      <td>Bachelor's</td>\n",
       "      <td>Computer Science</td>\n",
       "      <td>University of Michigan--Ann Arbor</td>\n",
       "      <td>Placed</td>\n",
       "      <td>64000</td>\n",
       "      <td>3.6</td>\n",
       "      <td>1.0</td>\n",
       "    </tr>\n",
       "    <tr>\n",
       "      <th>2</th>\n",
       "      <td>15</td>\n",
       "      <td>Male</td>\n",
       "      <td>23</td>\n",
       "      <td>Bachelor's</td>\n",
       "      <td>Electrical Engineering</td>\n",
       "      <td>University of California--Los Angeles</td>\n",
       "      <td>Placed</td>\n",
       "      <td>66000</td>\n",
       "      <td>3.8</td>\n",
       "      <td>3.0</td>\n",
       "    </tr>\n",
       "    <tr>\n",
       "      <th>3</th>\n",
       "      <td>18</td>\n",
       "      <td>Female</td>\n",
       "      <td>24</td>\n",
       "      <td>Bachelor's</td>\n",
       "      <td>Electronics and Communication</td>\n",
       "      <td>University of Illinois--Urbana-Champaign</td>\n",
       "      <td>Placed</td>\n",
       "      <td>62000</td>\n",
       "      <td>3.8</td>\n",
       "      <td>1.0</td>\n",
       "    </tr>\n",
       "    <tr>\n",
       "      <th>4</th>\n",
       "      <td>20</td>\n",
       "      <td>Female</td>\n",
       "      <td>25</td>\n",
       "      <td>Bachelor's</td>\n",
       "      <td>Computer Science</td>\n",
       "      <td>University of Washington</td>\n",
       "      <td>Placed</td>\n",
       "      <td>65000</td>\n",
       "      <td>3.6</td>\n",
       "      <td>1.0</td>\n",
       "    </tr>\n",
       "  </tbody>\n",
       "</table>\n",
       "</div>"
      ],
      "text/plain": [
       "   id  gender  age      degree                         stream  \\\n",
       "0  13    Male   26  Bachelor's         Information Technology   \n",
       "1  14  Female   24  Bachelor's               Computer Science   \n",
       "2  15    Male   23  Bachelor's         Electrical Engineering   \n",
       "3  18  Female   24  Bachelor's  Electronics and Communication   \n",
       "4  20  Female   25  Bachelor's               Computer Science   \n",
       "\n",
       "                               college_name placement_status  salary  gpa  \\\n",
       "0        University of California--Berkeley           Placed   63000  3.7   \n",
       "1         University of Michigan--Ann Arbor           Placed   64000  3.6   \n",
       "2     University of California--Los Angeles           Placed   66000  3.8   \n",
       "3  University of Illinois--Urbana-Champaign           Placed   62000  3.8   \n",
       "4                  University of Washington           Placed   65000  3.6   \n",
       "\n",
       "   years_of_experience  \n",
       "0                  2.0  \n",
       "1                  1.0  \n",
       "2                  3.0  \n",
       "3                  1.0  \n",
       "4                  1.0  "
      ]
     },
     "execution_count": 1261,
     "metadata": {},
     "output_type": "execute_result"
    }
   ],
   "source": [
    "final_df = updated_df.drop(['name', 'location'], axis=1)\n",
    "\n",
    "final_df.head()"
   ]
  },
  {
   "cell_type": "code",
   "execution_count": 1262,
   "id": "8c46ff01",
   "metadata": {},
   "outputs": [],
   "source": [
    "# Label Encoder\n",
    "\n",
    "label_encoders = LabelEncoder()\n",
    "string_cols = [col for col in final_df.columns if final_df[col].dtype == 'object']\n",
    "\n",
    "for i in string_cols:\n",
    "    final_df[i] = label_encoders.fit_transform(final_df[i])\n"
   ]
  },
  {
   "cell_type": "markdown",
   "id": "eda3ca80",
   "metadata": {},
   "source": [
    "Two dataframes are present without and with LabelEncoding [updated_df, final_df]"
   ]
  },
  {
   "cell_type": "code",
   "execution_count": 1263,
   "id": "dbf566f1",
   "metadata": {},
   "outputs": [
    {
     "data": {
      "text/html": [
       "<div>\n",
       "<style scoped>\n",
       "    .dataframe tbody tr th:only-of-type {\n",
       "        vertical-align: middle;\n",
       "    }\n",
       "\n",
       "    .dataframe tbody tr th {\n",
       "        vertical-align: top;\n",
       "    }\n",
       "\n",
       "    .dataframe thead th {\n",
       "        text-align: right;\n",
       "    }\n",
       "</style>\n",
       "<table border=\"1\" class=\"dataframe\">\n",
       "  <thead>\n",
       "    <tr style=\"text-align: right;\">\n",
       "      <th></th>\n",
       "      <th>id</th>\n",
       "      <th>name</th>\n",
       "      <th>gender</th>\n",
       "      <th>age</th>\n",
       "      <th>degree</th>\n",
       "      <th>stream</th>\n",
       "      <th>college_name</th>\n",
       "      <th>placement_status</th>\n",
       "      <th>salary</th>\n",
       "      <th>gpa</th>\n",
       "      <th>years_of_experience</th>\n",
       "      <th>location</th>\n",
       "    </tr>\n",
       "  </thead>\n",
       "  <tbody>\n",
       "    <tr>\n",
       "      <th>0</th>\n",
       "      <td>13</td>\n",
       "      <td>Daniel Martinez</td>\n",
       "      <td>Male</td>\n",
       "      <td>26</td>\n",
       "      <td>Bachelor's</td>\n",
       "      <td>Information Technology</td>\n",
       "      <td>University of California--Berkeley</td>\n",
       "      <td>Placed</td>\n",
       "      <td>63000</td>\n",
       "      <td>3.7</td>\n",
       "      <td>2.0</td>\n",
       "      <td>Berkeley</td>\n",
       "    </tr>\n",
       "    <tr>\n",
       "      <th>1</th>\n",
       "      <td>14</td>\n",
       "      <td>Mia Gonzalez</td>\n",
       "      <td>Female</td>\n",
       "      <td>24</td>\n",
       "      <td>Bachelor's</td>\n",
       "      <td>Computer Science</td>\n",
       "      <td>University of Michigan--Ann Arbor</td>\n",
       "      <td>Placed</td>\n",
       "      <td>64000</td>\n",
       "      <td>3.6</td>\n",
       "      <td>1.0</td>\n",
       "      <td>Ann Arbor</td>\n",
       "    </tr>\n",
       "    <tr>\n",
       "      <th>2</th>\n",
       "      <td>15</td>\n",
       "      <td>Alexander Rodriguez</td>\n",
       "      <td>Male</td>\n",
       "      <td>23</td>\n",
       "      <td>Bachelor's</td>\n",
       "      <td>Electrical Engineering</td>\n",
       "      <td>University of California--Los Angeles</td>\n",
       "      <td>Placed</td>\n",
       "      <td>66000</td>\n",
       "      <td>3.8</td>\n",
       "      <td>3.0</td>\n",
       "      <td>Los Angeles</td>\n",
       "    </tr>\n",
       "    <tr>\n",
       "      <th>3</th>\n",
       "      <td>18</td>\n",
       "      <td>Olivia Moore</td>\n",
       "      <td>Female</td>\n",
       "      <td>24</td>\n",
       "      <td>Bachelor's</td>\n",
       "      <td>Electronics and Communication</td>\n",
       "      <td>University of Illinois--Urbana-Champaign</td>\n",
       "      <td>Placed</td>\n",
       "      <td>62000</td>\n",
       "      <td>3.8</td>\n",
       "      <td>1.0</td>\n",
       "      <td>Urbana-Champaign</td>\n",
       "    </tr>\n",
       "    <tr>\n",
       "      <th>4</th>\n",
       "      <td>20</td>\n",
       "      <td>Amelia Rivera</td>\n",
       "      <td>Female</td>\n",
       "      <td>25</td>\n",
       "      <td>Bachelor's</td>\n",
       "      <td>Computer Science</td>\n",
       "      <td>University of Washington</td>\n",
       "      <td>Placed</td>\n",
       "      <td>65000</td>\n",
       "      <td>3.6</td>\n",
       "      <td>1.0</td>\n",
       "      <td>Washington</td>\n",
       "    </tr>\n",
       "  </tbody>\n",
       "</table>\n",
       "</div>"
      ],
      "text/plain": [
       "   id                 name  gender  age      degree  \\\n",
       "0  13      Daniel Martinez    Male   26  Bachelor's   \n",
       "1  14         Mia Gonzalez  Female   24  Bachelor's   \n",
       "2  15  Alexander Rodriguez    Male   23  Bachelor's   \n",
       "3  18         Olivia Moore  Female   24  Bachelor's   \n",
       "4  20        Amelia Rivera  Female   25  Bachelor's   \n",
       "\n",
       "                          stream                              college_name  \\\n",
       "0         Information Technology        University of California--Berkeley   \n",
       "1               Computer Science         University of Michigan--Ann Arbor   \n",
       "2         Electrical Engineering     University of California--Los Angeles   \n",
       "3  Electronics and Communication  University of Illinois--Urbana-Champaign   \n",
       "4               Computer Science                  University of Washington   \n",
       "\n",
       "  placement_status  salary  gpa  years_of_experience          location  \n",
       "0           Placed   63000  3.7                  2.0          Berkeley  \n",
       "1           Placed   64000  3.6                  1.0         Ann Arbor  \n",
       "2           Placed   66000  3.8                  3.0       Los Angeles  \n",
       "3           Placed   62000  3.8                  1.0  Urbana-Champaign  \n",
       "4           Placed   65000  3.6                  1.0        Washington  "
      ]
     },
     "execution_count": 1263,
     "metadata": {},
     "output_type": "execute_result"
    }
   ],
   "source": [
    "updated_df.head()"
   ]
  },
  {
   "cell_type": "code",
   "execution_count": 1264,
   "id": "d4b7384b",
   "metadata": {},
   "outputs": [
    {
     "data": {
      "text/plain": [
       "['Harvard University']"
      ]
     },
     "execution_count": 1264,
     "metadata": {},
     "output_type": "execute_result"
    }
   ],
   "source": [
    "df['college_name'].str.split('--')[0]"
   ]
  },
  {
   "cell_type": "code",
   "execution_count": 1265,
   "id": "58b28563",
   "metadata": {},
   "outputs": [],
   "source": [
    "def OnlyCollege(college):\n",
    "    try:\n",
    "        # Make sure it's a string\n",
    "        college = str(college)\n",
    "        # Split on '--' and take the first part\n",
    "        return college.split('--')[0]\n",
    "    except Exception:\n",
    "        return college  # fallback in case of NaN or unexpected type"
   ]
  },
  {
   "cell_type": "code",
   "execution_count": 1266,
   "id": "5623568b",
   "metadata": {},
   "outputs": [],
   "source": [
    "updated_df['college_name'] = updated_df['college_name'].apply(OnlyCollege)"
   ]
  },
  {
   "cell_type": "code",
   "execution_count": 1267,
   "id": "1cb79f3e",
   "metadata": {},
   "outputs": [
    {
     "data": {
      "text/html": [
       "<div>\n",
       "<style scoped>\n",
       "    .dataframe tbody tr th:only-of-type {\n",
       "        vertical-align: middle;\n",
       "    }\n",
       "\n",
       "    .dataframe tbody tr th {\n",
       "        vertical-align: top;\n",
       "    }\n",
       "\n",
       "    .dataframe thead th {\n",
       "        text-align: right;\n",
       "    }\n",
       "</style>\n",
       "<table border=\"1\" class=\"dataframe\">\n",
       "  <thead>\n",
       "    <tr style=\"text-align: right;\">\n",
       "      <th></th>\n",
       "      <th>id</th>\n",
       "      <th>name</th>\n",
       "      <th>gender</th>\n",
       "      <th>age</th>\n",
       "      <th>degree</th>\n",
       "      <th>stream</th>\n",
       "      <th>college_name</th>\n",
       "      <th>placement_status</th>\n",
       "      <th>salary</th>\n",
       "      <th>gpa</th>\n",
       "      <th>years_of_experience</th>\n",
       "      <th>location</th>\n",
       "    </tr>\n",
       "  </thead>\n",
       "  <tbody>\n",
       "    <tr>\n",
       "      <th>0</th>\n",
       "      <td>13</td>\n",
       "      <td>Daniel Martinez</td>\n",
       "      <td>Male</td>\n",
       "      <td>26</td>\n",
       "      <td>Bachelor's</td>\n",
       "      <td>Information Technology</td>\n",
       "      <td>University of California</td>\n",
       "      <td>Placed</td>\n",
       "      <td>63000</td>\n",
       "      <td>3.7</td>\n",
       "      <td>2.0</td>\n",
       "      <td>Berkeley</td>\n",
       "    </tr>\n",
       "    <tr>\n",
       "      <th>1</th>\n",
       "      <td>14</td>\n",
       "      <td>Mia Gonzalez</td>\n",
       "      <td>Female</td>\n",
       "      <td>24</td>\n",
       "      <td>Bachelor's</td>\n",
       "      <td>Computer Science</td>\n",
       "      <td>University of Michigan</td>\n",
       "      <td>Placed</td>\n",
       "      <td>64000</td>\n",
       "      <td>3.6</td>\n",
       "      <td>1.0</td>\n",
       "      <td>Ann Arbor</td>\n",
       "    </tr>\n",
       "    <tr>\n",
       "      <th>2</th>\n",
       "      <td>15</td>\n",
       "      <td>Alexander Rodriguez</td>\n",
       "      <td>Male</td>\n",
       "      <td>23</td>\n",
       "      <td>Bachelor's</td>\n",
       "      <td>Electrical Engineering</td>\n",
       "      <td>University of California</td>\n",
       "      <td>Placed</td>\n",
       "      <td>66000</td>\n",
       "      <td>3.8</td>\n",
       "      <td>3.0</td>\n",
       "      <td>Los Angeles</td>\n",
       "    </tr>\n",
       "    <tr>\n",
       "      <th>3</th>\n",
       "      <td>18</td>\n",
       "      <td>Olivia Moore</td>\n",
       "      <td>Female</td>\n",
       "      <td>24</td>\n",
       "      <td>Bachelor's</td>\n",
       "      <td>Electronics and Communication</td>\n",
       "      <td>University of Illinois</td>\n",
       "      <td>Placed</td>\n",
       "      <td>62000</td>\n",
       "      <td>3.8</td>\n",
       "      <td>1.0</td>\n",
       "      <td>Urbana-Champaign</td>\n",
       "    </tr>\n",
       "    <tr>\n",
       "      <th>4</th>\n",
       "      <td>20</td>\n",
       "      <td>Amelia Rivera</td>\n",
       "      <td>Female</td>\n",
       "      <td>25</td>\n",
       "      <td>Bachelor's</td>\n",
       "      <td>Computer Science</td>\n",
       "      <td>University of Washington</td>\n",
       "      <td>Placed</td>\n",
       "      <td>65000</td>\n",
       "      <td>3.6</td>\n",
       "      <td>1.0</td>\n",
       "      <td>Washington</td>\n",
       "    </tr>\n",
       "  </tbody>\n",
       "</table>\n",
       "</div>"
      ],
      "text/plain": [
       "   id                 name  gender  age      degree  \\\n",
       "0  13      Daniel Martinez    Male   26  Bachelor's   \n",
       "1  14         Mia Gonzalez  Female   24  Bachelor's   \n",
       "2  15  Alexander Rodriguez    Male   23  Bachelor's   \n",
       "3  18         Olivia Moore  Female   24  Bachelor's   \n",
       "4  20        Amelia Rivera  Female   25  Bachelor's   \n",
       "\n",
       "                          stream              college_name placement_status  \\\n",
       "0         Information Technology  University of California           Placed   \n",
       "1               Computer Science    University of Michigan           Placed   \n",
       "2         Electrical Engineering  University of California           Placed   \n",
       "3  Electronics and Communication    University of Illinois           Placed   \n",
       "4               Computer Science  University of Washington           Placed   \n",
       "\n",
       "   salary  gpa  years_of_experience          location  \n",
       "0   63000  3.7                  2.0          Berkeley  \n",
       "1   64000  3.6                  1.0         Ann Arbor  \n",
       "2   66000  3.8                  3.0       Los Angeles  \n",
       "3   62000  3.8                  1.0  Urbana-Champaign  \n",
       "4   65000  3.6                  1.0        Washington  "
      ]
     },
     "execution_count": 1267,
     "metadata": {},
     "output_type": "execute_result"
    }
   ],
   "source": [
    "updated_df.head()"
   ]
  },
  {
   "cell_type": "code",
   "execution_count": 1268,
   "id": "fd3b07d0",
   "metadata": {},
   "outputs": [
    {
     "data": {
      "text/html": [
       "<div>\n",
       "<style scoped>\n",
       "    .dataframe tbody tr th:only-of-type {\n",
       "        vertical-align: middle;\n",
       "    }\n",
       "\n",
       "    .dataframe tbody tr th {\n",
       "        vertical-align: top;\n",
       "    }\n",
       "\n",
       "    .dataframe thead th {\n",
       "        text-align: right;\n",
       "    }\n",
       "</style>\n",
       "<table border=\"1\" class=\"dataframe\">\n",
       "  <thead>\n",
       "    <tr style=\"text-align: right;\">\n",
       "      <th></th>\n",
       "      <th>id</th>\n",
       "      <th>gender</th>\n",
       "      <th>age</th>\n",
       "      <th>degree</th>\n",
       "      <th>stream</th>\n",
       "      <th>college_name</th>\n",
       "      <th>placement_status</th>\n",
       "      <th>salary</th>\n",
       "      <th>gpa</th>\n",
       "      <th>years_of_experience</th>\n",
       "    </tr>\n",
       "  </thead>\n",
       "  <tbody>\n",
       "    <tr>\n",
       "      <th>0</th>\n",
       "      <td>13</td>\n",
       "      <td>1</td>\n",
       "      <td>26</td>\n",
       "      <td>0</td>\n",
       "      <td>3</td>\n",
       "      <td>0</td>\n",
       "      <td>1</td>\n",
       "      <td>63000</td>\n",
       "      <td>3.7</td>\n",
       "      <td>2.0</td>\n",
       "    </tr>\n",
       "    <tr>\n",
       "      <th>1</th>\n",
       "      <td>14</td>\n",
       "      <td>0</td>\n",
       "      <td>24</td>\n",
       "      <td>0</td>\n",
       "      <td>0</td>\n",
       "      <td>10</td>\n",
       "      <td>1</td>\n",
       "      <td>64000</td>\n",
       "      <td>3.6</td>\n",
       "      <td>1.0</td>\n",
       "    </tr>\n",
       "    <tr>\n",
       "      <th>2</th>\n",
       "      <td>15</td>\n",
       "      <td>1</td>\n",
       "      <td>23</td>\n",
       "      <td>0</td>\n",
       "      <td>1</td>\n",
       "      <td>1</td>\n",
       "      <td>1</td>\n",
       "      <td>66000</td>\n",
       "      <td>3.8</td>\n",
       "      <td>3.0</td>\n",
       "    </tr>\n",
       "    <tr>\n",
       "      <th>3</th>\n",
       "      <td>18</td>\n",
       "      <td>0</td>\n",
       "      <td>24</td>\n",
       "      <td>0</td>\n",
       "      <td>2</td>\n",
       "      <td>8</td>\n",
       "      <td>1</td>\n",
       "      <td>62000</td>\n",
       "      <td>3.8</td>\n",
       "      <td>1.0</td>\n",
       "    </tr>\n",
       "    <tr>\n",
       "      <th>4</th>\n",
       "      <td>20</td>\n",
       "      <td>0</td>\n",
       "      <td>25</td>\n",
       "      <td>0</td>\n",
       "      <td>0</td>\n",
       "      <td>16</td>\n",
       "      <td>1</td>\n",
       "      <td>65000</td>\n",
       "      <td>3.6</td>\n",
       "      <td>1.0</td>\n",
       "    </tr>\n",
       "  </tbody>\n",
       "</table>\n",
       "</div>"
      ],
      "text/plain": [
       "   id  gender  age  degree  stream  college_name  placement_status  salary  \\\n",
       "0  13       1   26       0       3             0                 1   63000   \n",
       "1  14       0   24       0       0            10                 1   64000   \n",
       "2  15       1   23       0       1             1                 1   66000   \n",
       "3  18       0   24       0       2             8                 1   62000   \n",
       "4  20       0   25       0       0            16                 1   65000   \n",
       "\n",
       "   gpa  years_of_experience  \n",
       "0  3.7                  2.0  \n",
       "1  3.6                  1.0  \n",
       "2  3.8                  3.0  \n",
       "3  3.8                  1.0  \n",
       "4  3.6                  1.0  "
      ]
     },
     "execution_count": 1268,
     "metadata": {},
     "output_type": "execute_result"
    }
   ],
   "source": [
    "# Save location somewhere\n",
    "\n",
    "final_df.head()"
   ]
  },
  {
   "cell_type": "code",
   "execution_count": 1269,
   "id": "9639a556",
   "metadata": {},
   "outputs": [
    {
     "data": {
      "text/plain": [
       "array([ 0, 10,  1,  8, 16,  9,  5, 13,  4,  6,  7,  3, 14, 15,  2, 12, 11])"
      ]
     },
     "execution_count": 1269,
     "metadata": {},
     "output_type": "execute_result"
    }
   ],
   "source": [
    "final_df['college_name'].unique()"
   ]
  },
  {
   "cell_type": "code",
   "execution_count": 1270,
   "id": "4c96e677",
   "metadata": {},
   "outputs": [
    {
     "data": {
      "text/plain": [
       "array(['University of California', 'University of Michigan',\n",
       "       'University of Illinois', 'University of Washington',\n",
       "       'University of Maryland', 'University of Colorado',\n",
       "       'University of Rochester', 'University of Connecticut',\n",
       "       'University of Delaware', 'University of Texas',\n",
       "       'University of Virginia', 'University of Pennsylvania',\n",
       "       'University of North Carolina'], dtype=object)"
      ]
     },
     "execution_count": 1270,
     "metadata": {},
     "output_type": "execute_result"
    }
   ],
   "source": [
    "updated_df['college_name'].unique()"
   ]
  },
  {
   "cell_type": "code",
   "execution_count": 1271,
   "id": "79a9df9d",
   "metadata": {},
   "outputs": [],
   "source": [
    "final_df = final_df.drop(['degree'], axis=1)"
   ]
  },
  {
   "cell_type": "code",
   "execution_count": 1272,
   "id": "b2ee3b70",
   "metadata": {},
   "outputs": [
    {
     "data": {
      "image/png": "[encoded data removed]",
      "text/plain": [
       "<Figure size 1200x1000 with 2 Axes>"
      ]
     },
     "metadata": {},
     "output_type": "display_data"
    }
   ],
   "source": [
    "plt.figure(figsize= (12, 10))\n",
    "sns.heatmap(final_df.corr(), cmap='coolwarm', annot=True)\n",
    "plt.show()"
   ]
  },
  {
   "cell_type": "markdown",
   "id": "fcb7cc9b",
   "metadata": {},
   "source": [
    "Train Test Split"
   ]
  },
  {
   "cell_type": "code",
   "execution_count": 1273,
   "id": "7a2954d9",
   "metadata": {},
   "outputs": [],
   "source": [
    "X = final_df.drop(['salary', 'id'], axis=1)\n",
    "y = final_df['salary']\n",
    "\n",
    "X_train, X_test, y_train, y_test = train_test_split(X, y, test_size=0.2, random_state=42)"
   ]
  },
  {
   "cell_type": "code",
   "execution_count": 1274,
   "id": "621551c1",
   "metadata": {},
   "outputs": [
    {
     "name": "stdout",
     "output_type": "stream",
     "text": [
      "<class 'pandas.core.series.Series'>\n",
      "Index: 508 entries, 360 to 102\n",
      "Series name: salary\n",
      "Non-Null Count  Dtype\n",
      "--------------  -----\n",
      "508 non-null    int64\n",
      "dtypes: int64(1)\n",
      "memory usage: 7.9 KB\n"
     ]
    }
   ],
   "source": [
    "y_train.info()"
   ]
  },
  {
   "cell_type": "markdown",
   "id": "215717b5",
   "metadata": {},
   "source": [
    "Machine Learning Algorithm"
   ]
  },
  {
   "cell_type": "code",
   "execution_count": 1275,
   "id": "10784298",
   "metadata": {},
   "outputs": [],
   "source": [
    "# Define function first\n",
    "def training_regressor(model):\n",
    "    model.fit(X_train, y_train)\n",
    "    pred = model.predict(X_test)\n",
    "    mse = mean_squared_error(y_test, pred)\n",
    "    r2 = r2_score(y_test, pred)\n",
    "    print(\"MSE: \", mse)\n",
    "    print(\"r2: \", r2)\n",
    "    return model  # <-- important"
   ]
  },
  {
   "cell_type": "code",
   "execution_count": 1276,
   "id": "2ec4aa26",
   "metadata": {},
   "outputs": [],
   "source": [
    "# Initialize models\n",
    "rfr = RandomForestRegressor()\n",
    "gbr = GradientBoostingRegressor(learning_rate=0.9)\n",
    "lnr = LinearRegression()\n",
    "xgbr = XGBRegressor(learning_rate=0.9)\n",
    "\n",
    "models = [rfr, gbr, lnr, xgbr]\n",
    "names = [\"Random_Forest\",  \"Gradient_Boosting\", \"Linear_Regression\", \"XGBoost\"]"
   ]
  },
  {
   "cell_type": "code",
   "execution_count": 1277,
   "id": "e40ee04d",
   "metadata": {},
   "outputs": [],
   "source": [
    "# list(models.values())[0]"
   ]
  },
  {
   "cell_type": "code",
   "execution_count": 1278,
   "id": "a781f8c9",
   "metadata": {},
   "outputs": [
    {
     "name": "stdout",
     "output_type": "stream",
     "text": [
      "**************************************************\n",
      "Random_Forest\n",
      "MSE:  134072.1627161281\n",
      "r2:  0.9998019532844797\n",
      "Random_Forest.pkl saved successfully!\n",
      "**************************************************\n",
      "**************************************************\n",
      "Gradient_Boosting\n",
      "MSE:  59646.61939371539\n",
      "r2:  0.999911892097334\n",
      "Gradient_Boosting.pkl saved successfully!\n",
      "**************************************************\n",
      "**************************************************\n",
      "Linear_Regression\n",
      "MSE:  2421726.4062104654\n",
      "r2:  0.9964227103455152\n",
      "Linear_Regression.pkl saved successfully!\n",
      "**************************************************\n",
      "**************************************************\n",
      "XGBoost\n",
      "MSE:  151314.359375\n",
      "r2:  0.9997764825820923\n",
      "XGBoost.pkl saved successfully!\n",
      "**************************************************\n"
     ]
    }
   ],
   "source": [
    "# Train and save\n",
    "for i, j in zip(models, names):\n",
    "    print(\"*\" * 50)\n",
    "    print(j)\n",
    "    model = training_regressor(i)\n",
    "    joblib.dump(model, f\"{j}.pkl\")  # save trained model\n",
    "    print(f\"{j}.pkl saved successfully!\")\n",
    "    print(\"*\" * 50)"
   ]
  },
  {
   "cell_type": "code",
   "execution_count": 1282,
   "id": "40564ccc",
   "metadata": {},
   "outputs": [
    {
     "data": {
      "text/html": [
       "<div>\n",
       "<style scoped>\n",
       "    .dataframe tbody tr th:only-of-type {\n",
       "        vertical-align: middle;\n",
       "    }\n",
       "\n",
       "    .dataframe tbody tr th {\n",
       "        vertical-align: top;\n",
       "    }\n",
       "\n",
       "    .dataframe thead th {\n",
       "        text-align: right;\n",
       "    }\n",
       "</style>\n",
       "<table border=\"1\" class=\"dataframe\">\n",
       "  <thead>\n",
       "    <tr style=\"text-align: right;\">\n",
       "      <th></th>\n",
       "      <th>id</th>\n",
       "      <th>gender</th>\n",
       "      <th>age</th>\n",
       "      <th>stream</th>\n",
       "      <th>college_name</th>\n",
       "      <th>placement_status</th>\n",
       "      <th>salary</th>\n",
       "      <th>gpa</th>\n",
       "      <th>years_of_experience</th>\n",
       "    </tr>\n",
       "  </thead>\n",
       "  <tbody>\n",
       "    <tr>\n",
       "      <th>0</th>\n",
       "      <td>13</td>\n",
       "      <td>1</td>\n",
       "      <td>26</td>\n",
       "      <td>3</td>\n",
       "      <td>0</td>\n",
       "      <td>1</td>\n",
       "      <td>63000</td>\n",
       "      <td>3.7</td>\n",
       "      <td>2.0</td>\n",
       "    </tr>\n",
       "    <tr>\n",
       "      <th>1</th>\n",
       "      <td>14</td>\n",
       "      <td>0</td>\n",
       "      <td>24</td>\n",
       "      <td>0</td>\n",
       "      <td>10</td>\n",
       "      <td>1</td>\n",
       "      <td>64000</td>\n",
       "      <td>3.6</td>\n",
       "      <td>1.0</td>\n",
       "    </tr>\n",
       "    <tr>\n",
       "      <th>2</th>\n",
       "      <td>15</td>\n",
       "      <td>1</td>\n",
       "      <td>23</td>\n",
       "      <td>1</td>\n",
       "      <td>1</td>\n",
       "      <td>1</td>\n",
       "      <td>66000</td>\n",
       "      <td>3.8</td>\n",
       "      <td>3.0</td>\n",
       "    </tr>\n",
       "    <tr>\n",
       "      <th>3</th>\n",
       "      <td>18</td>\n",
       "      <td>0</td>\n",
       "      <td>24</td>\n",
       "      <td>2</td>\n",
       "      <td>8</td>\n",
       "      <td>1</td>\n",
       "      <td>62000</td>\n",
       "      <td>3.8</td>\n",
       "      <td>1.0</td>\n",
       "    </tr>\n",
       "    <tr>\n",
       "      <th>4</th>\n",
       "      <td>20</td>\n",
       "      <td>0</td>\n",
       "      <td>25</td>\n",
       "      <td>0</td>\n",
       "      <td>16</td>\n",
       "      <td>1</td>\n",
       "      <td>65000</td>\n",
       "      <td>3.6</td>\n",
       "      <td>1.0</td>\n",
       "    </tr>\n",
       "  </tbody>\n",
       "</table>\n",
       "</div>"
      ],
      "text/plain": [
       "   id  gender  age  stream  college_name  placement_status  salary  gpa  \\\n",
       "0  13       1   26       3             0                 1   63000  3.7   \n",
       "1  14       0   24       0            10                 1   64000  3.6   \n",
       "2  15       1   23       1             1                 1   66000  3.8   \n",
       "3  18       0   24       2             8                 1   62000  3.8   \n",
       "4  20       0   25       0            16                 1   65000  3.6   \n",
       "\n",
       "   years_of_experience  \n",
       "0                  2.0  \n",
       "1                  1.0  \n",
       "2                  3.0  \n",
       "3                  1.0  \n",
       "4                  1.0  "
      ]
     },
     "execution_count": 1282,
     "metadata": {},
     "output_type": "execute_result"
    }
   ],
   "source": [
    "final_df.head()"
   ]
  },
  {
   "cell_type": "code",
   "execution_count": 1279,
   "id": "1d84ec14",
   "metadata": {},
   "outputs": [],
   "source": [
    "# Save CSV\n",
    "updated_df.to_csv(\"Dataset/Final.csv\", index=False)"
   ]
  }
 ],
 "metadata": {
  "kernelspec": {
   "display_name": "Python 3",
   "language": "python",
   "name": "python3"
  },
  "language_info": {
   "codemirror_mode": {
    "name": "ipython",
    "version": 3
   },
   "file_extension": ".py",
   "mimetype": "text/x-python",
   "name": "python",
   "nbconvert_exporter": "python",
   "pygments_lexer": "ipython3",
   "version": "3.10.4"
  }
 },
 "nbformat": 4,
 "nbformat_minor": 5
}
